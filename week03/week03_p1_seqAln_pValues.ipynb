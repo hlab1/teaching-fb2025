{
 "cells": [
  {
   "cell_type": "markdown",
   "metadata": {},
   "source": [
    "# Assessing statistical significance of sequence alignments"
   ]
  },
  {
   "cell_type": "markdown",
   "metadata": {
    "jp-MarkdownHeadingCollapsed": true
   },
   "source": [
    "### Getting started\n",
    "\n",
    "1. Enter the \"my_notebooks\" folder and create a new folder \"week03\".  \n",
    "2. In the \"my_notebooks/week03\" folder, open a notebook from this URL https://raw.githubusercontent.com/hlab1/teaching-fb2025/refs/heads/main/week03/week03_p1_seqAln_pValues.ipynb.\n",
    "3. Clear all outputs by \"Kernel\"->\"Restart Kernel and Clear Outputs of All Cells\"."
   ]
  },
  {
   "cell_type": "markdown",
   "metadata": {},
   "source": [
    "### Pairwise global alignment of DNA sequences using the Needleman-Wunsch algorithm\n",
    "\n",
    "The code below uses the `nucleotideSubstitutionMatrix` function from `Biostrings` package to create an object that represents a nucleotide substitution matrix.  We also load the `pwalign` library to use its functionalities for pairwise sequence alignment. \n",
    "\n",
    "Aside: What does the `#` in the code do?"
   ]
  },
  {
   "cell_type": "code",
   "execution_count": 1,
   "metadata": {},
   "outputs": [
    {
     "name": "stderr",
     "output_type": "stream",
     "text": [
      "Loading required package: BiocGenerics\n",
      "\n",
      "\n",
      "Attaching package: ‘BiocGenerics’\n",
      "\n",
      "\n",
      "The following objects are masked from ‘package:stats’:\n",
      "\n",
      "    IQR, mad, sd, var, xtabs\n",
      "\n",
      "\n",
      "The following objects are masked from ‘package:base’:\n",
      "\n",
      "    anyDuplicated, aperm, append, as.data.frame, basename, cbind,\n",
      "    colnames, dirname, do.call, duplicated, eval, evalq, Filter, Find,\n",
      "    get, grep, grepl, intersect, is.unsorted, lapply, Map, mapply,\n",
      "    match, mget, order, paste, pmax, pmax.int, pmin, pmin.int,\n",
      "    Position, rank, rbind, Reduce, rownames, sapply, saveRDS, setdiff,\n",
      "    table, tapply, union, unique, unsplit, which.max, which.min\n",
      "\n",
      "\n",
      "Loading required package: S4Vectors\n",
      "\n",
      "Loading required package: stats4\n",
      "\n",
      "\n",
      "Attaching package: ‘S4Vectors’\n",
      "\n",
      "\n",
      "The following object is masked from ‘package:utils’:\n",
      "\n",
      "    findMatches\n",
      "\n",
      "\n",
      "The following objects are masked from ‘package:base’:\n",
      "\n",
      "    expand.grid, I, unname\n",
      "\n",
      "\n",
      "Loading required package: IRanges\n",
      "\n",
      "Loading required package: XVector\n",
      "\n",
      "Loading required package: GenomeInfoDb\n",
      "\n",
      "\n",
      "Attaching package: ‘Biostrings’\n",
      "\n",
      "\n",
      "The following object is masked from ‘package:base’:\n",
      "\n",
      "    strsplit\n",
      "\n",
      "\n",
      "\n",
      "Attaching package: ‘pwalign’\n",
      "\n",
      "\n",
      "The following objects are masked from ‘package:Biostrings’:\n",
      "\n",
      "    aligned, alignedPattern, alignedSubject, compareStrings, deletion,\n",
      "    errorSubstitutionMatrices, indel, insertion, mismatchSummary,\n",
      "    mismatchTable, nedit, nindel, nucleotideSubstitutionMatrix,\n",
      "    pairwiseAlignment, PairwiseAlignments,\n",
      "    PairwiseAlignmentsSingleSubject, pid, qualitySubstitutionMatrices,\n",
      "    stringDist, unaligned, writePairwiseAlignments\n",
      "\n",
      "\n"
     ]
    },
    {
     "data": {
      "text/html": [
       "<table class=\"dataframe\">\n",
       "<caption>A matrix: 4 × 4 of type dbl</caption>\n",
       "<thead>\n",
       "\t<tr><th></th><th scope=col>A</th><th scope=col>C</th><th scope=col>G</th><th scope=col>T</th></tr>\n",
       "</thead>\n",
       "<tbody>\n",
       "\t<tr><th scope=row>A</th><td> 2</td><td>-1</td><td>-1</td><td>-1</td></tr>\n",
       "\t<tr><th scope=row>C</th><td>-1</td><td> 2</td><td>-1</td><td>-1</td></tr>\n",
       "\t<tr><th scope=row>G</th><td>-1</td><td>-1</td><td> 2</td><td>-1</td></tr>\n",
       "\t<tr><th scope=row>T</th><td>-1</td><td>-1</td><td>-1</td><td> 2</td></tr>\n",
       "</tbody>\n",
       "</table>\n"
      ],
      "text/latex": [
       "A matrix: 4 × 4 of type dbl\n",
       "\\begin{tabular}{r|llll}\n",
       "  & A & C & G & T\\\\\n",
       "\\hline\n",
       "\tA &  2 & -1 & -1 & -1\\\\\n",
       "\tC & -1 &  2 & -1 & -1\\\\\n",
       "\tG & -1 & -1 &  2 & -1\\\\\n",
       "\tT & -1 & -1 & -1 &  2\\\\\n",
       "\\end{tabular}\n"
      ],
      "text/markdown": [
       "\n",
       "A matrix: 4 × 4 of type dbl\n",
       "\n",
       "| <!--/--> | A | C | G | T |\n",
       "|---|---|---|---|---|\n",
       "| A |  2 | -1 | -1 | -1 |\n",
       "| C | -1 |  2 | -1 | -1 |\n",
       "| G | -1 | -1 |  2 | -1 |\n",
       "| T | -1 | -1 | -1 |  2 |\n",
       "\n"
      ],
      "text/plain": [
       "  A  C  G  T \n",
       "A  2 -1 -1 -1\n",
       "C -1  2 -1 -1\n",
       "G -1 -1  2 -1\n",
       "T -1 -1 -1  2"
      ]
     },
     "metadata": {},
     "output_type": "display_data"
    }
   ],
   "source": [
    "library(Biostrings)\n",
    "library(pwalign)\n",
    "sigma <- nucleotideSubstitutionMatrix(match = 2, mismatch = -1, baseOnly = TRUE)\n",
    "sigma # Print out the matrix"
   ]
  },
  {
   "cell_type": "markdown",
   "metadata": {},
   "source": [
    "The `pairwiseAlignment` function performs (Needleman-Wunsch) global alignment, (Smith-Waterman) local alignment, and (ends-free) overlap alignment problems.  What does the `scoreOnly` argument do?"
   ]
  },
  {
   "cell_type": "code",
   "execution_count": 2,
   "metadata": {},
   "outputs": [
    {
     "data": {
      "text/plain": [
       "Global PairwiseAlignmentsSingleSubject (1 of 1)\n",
       "pattern: GAATTC\n",
       "subject: GA-TTA\n",
       "score: -3 "
      ]
     },
     "metadata": {},
     "output_type": "display_data"
    }
   ],
   "source": [
    "s1 <- \"GAATTC\"\n",
    "s2 <- \"GATTA\"\n",
    "globalAligns1s2 <- pairwiseAlignment(s1, s2, substitutionMatrix = sigma, gapOpening = -2, gapExtension = -8, scoreOnly = FALSE)\n",
    "globalAligns1s2 # Print out the optimal alignment and its score\n"
   ]
  },
  {
   "cell_type": "markdown",
   "metadata": {},
   "source": [
    "The `Biostrings` package comes with several precomputed scoring matrices.  We can find out which ones are available to use."
   ]
  },
  {
   "cell_type": "code",
   "execution_count": 3,
   "metadata": {},
   "outputs": [
    {
     "data": {
      "text/html": [
       "<h3>Data sets</h3>\n",
       "<table class=\"dataframe\">\n",
       "<caption>A data.frame: 2 × 3</caption>\n",
       "<thead>\n",
       "\t<tr><th scope=col>Package</th><th scope=col>Item</th><th scope=col>Title</th></tr>\n",
       "\t<tr><th scope=col>&lt;chr&gt;</th><th scope=col>&lt;chr&gt;</th><th scope=col>&lt;chr&gt;</th></tr>\n",
       "</thead>\n",
       "<tbody>\n",
       "\t<tr><td>Biostrings</td><td>HNF4alpha   </td><td>Known HNF4alpha binding sequences                       </td></tr>\n",
       "\t<tr><td>Biostrings</td><td>yeastSEQCHR1</td><td>An annotation data file for CHR1 in the yeastSEQ package</td></tr>\n",
       "</tbody>\n",
       "</table>\n",
       "\n"
      ],
      "text/plain": [
       "Data sets in package ‘Biostrings’:\n",
       "\n",
       "HNF4alpha               Known HNF4alpha binding sequences\n",
       "yeastSEQCHR1            An annotation data file for CHR1 in the\n",
       "                        yeastSEQ package"
      ]
     },
     "metadata": {},
     "output_type": "display_data"
    }
   ],
   "source": [
    "data(package=\"Biostrings\")"
   ]
  },
  {
   "cell_type": "code",
   "execution_count": 4,
   "metadata": {},
   "outputs": [],
   "source": [
    "data(BLOSUM50)"
   ]
  },
  {
   "cell_type": "code",
   "execution_count": 5,
   "metadata": {},
   "outputs": [
    {
     "data": {
      "text/html": [
       "<table class=\"dataframe\">\n",
       "<caption>A matrix: 24 × 24 of type int</caption>\n",
       "<thead>\n",
       "\t<tr><th></th><th scope=col>A</th><th scope=col>R</th><th scope=col>N</th><th scope=col>D</th><th scope=col>C</th><th scope=col>Q</th><th scope=col>E</th><th scope=col>G</th><th scope=col>H</th><th scope=col>I</th><th scope=col>⋯</th><th scope=col>P</th><th scope=col>S</th><th scope=col>T</th><th scope=col>W</th><th scope=col>Y</th><th scope=col>V</th><th scope=col>B</th><th scope=col>Z</th><th scope=col>X</th><th scope=col>*</th></tr>\n",
       "</thead>\n",
       "<tbody>\n",
       "\t<tr><th scope=row>A</th><td> 5</td><td>-2</td><td>-1</td><td>-2</td><td>-1</td><td>-1</td><td>-1</td><td> 0</td><td>-2</td><td>-1</td><td>⋯</td><td>-1</td><td> 1</td><td> 0</td><td>-3</td><td>-2</td><td> 0</td><td>-2</td><td>-1</td><td>-1</td><td>-5</td></tr>\n",
       "\t<tr><th scope=row>R</th><td>-2</td><td> 7</td><td>-1</td><td>-2</td><td>-4</td><td> 1</td><td> 0</td><td>-3</td><td> 0</td><td>-4</td><td>⋯</td><td>-3</td><td>-1</td><td>-1</td><td>-3</td><td>-1</td><td>-3</td><td>-1</td><td> 0</td><td>-1</td><td>-5</td></tr>\n",
       "\t<tr><th scope=row>N</th><td>-1</td><td>-1</td><td> 7</td><td> 2</td><td>-2</td><td> 0</td><td> 0</td><td> 0</td><td> 1</td><td>-3</td><td>⋯</td><td>-2</td><td> 1</td><td> 0</td><td>-4</td><td>-2</td><td>-3</td><td> 4</td><td> 0</td><td>-1</td><td>-5</td></tr>\n",
       "\t<tr><th scope=row>D</th><td>-2</td><td>-2</td><td> 2</td><td> 8</td><td>-4</td><td> 0</td><td> 2</td><td>-1</td><td>-1</td><td>-4</td><td>⋯</td><td>-1</td><td> 0</td><td>-1</td><td>-5</td><td>-3</td><td>-4</td><td> 5</td><td> 1</td><td>-1</td><td>-5</td></tr>\n",
       "\t<tr><th scope=row>C</th><td>-1</td><td>-4</td><td>-2</td><td>-4</td><td>13</td><td>-3</td><td>-3</td><td>-3</td><td>-3</td><td>-2</td><td>⋯</td><td>-4</td><td>-1</td><td>-1</td><td>-5</td><td>-3</td><td>-1</td><td>-3</td><td>-3</td><td>-2</td><td>-5</td></tr>\n",
       "\t<tr><th scope=row>Q</th><td>-1</td><td> 1</td><td> 0</td><td> 0</td><td>-3</td><td> 7</td><td> 2</td><td>-2</td><td> 1</td><td>-3</td><td>⋯</td><td>-1</td><td> 0</td><td>-1</td><td>-1</td><td>-1</td><td>-3</td><td> 0</td><td> 4</td><td>-1</td><td>-5</td></tr>\n",
       "\t<tr><th scope=row>E</th><td>-1</td><td> 0</td><td> 0</td><td> 2</td><td>-3</td><td> 2</td><td> 6</td><td>-3</td><td> 0</td><td>-4</td><td>⋯</td><td>-1</td><td>-1</td><td>-1</td><td>-3</td><td>-2</td><td>-3</td><td> 1</td><td> 5</td><td>-1</td><td>-5</td></tr>\n",
       "\t<tr><th scope=row>G</th><td> 0</td><td>-3</td><td> 0</td><td>-1</td><td>-3</td><td>-2</td><td>-3</td><td> 8</td><td>-2</td><td>-4</td><td>⋯</td><td>-2</td><td> 0</td><td>-2</td><td>-3</td><td>-3</td><td>-4</td><td>-1</td><td>-2</td><td>-2</td><td>-5</td></tr>\n",
       "\t<tr><th scope=row>H</th><td>-2</td><td> 0</td><td> 1</td><td>-1</td><td>-3</td><td> 1</td><td> 0</td><td>-2</td><td>10</td><td>-4</td><td>⋯</td><td>-2</td><td>-1</td><td>-2</td><td>-3</td><td> 2</td><td>-4</td><td> 0</td><td> 0</td><td>-1</td><td>-5</td></tr>\n",
       "\t<tr><th scope=row>I</th><td>-1</td><td>-4</td><td>-3</td><td>-4</td><td>-2</td><td>-3</td><td>-4</td><td>-4</td><td>-4</td><td> 5</td><td>⋯</td><td>-3</td><td>-3</td><td>-1</td><td>-3</td><td>-1</td><td> 4</td><td>-4</td><td>-3</td><td>-1</td><td>-5</td></tr>\n",
       "\t<tr><th scope=row>L</th><td>-2</td><td>-3</td><td>-4</td><td>-4</td><td>-2</td><td>-2</td><td>-3</td><td>-4</td><td>-3</td><td> 2</td><td>⋯</td><td>-4</td><td>-3</td><td>-1</td><td>-2</td><td>-1</td><td> 1</td><td>-4</td><td>-3</td><td>-1</td><td>-5</td></tr>\n",
       "\t<tr><th scope=row>K</th><td>-1</td><td> 3</td><td> 0</td><td>-1</td><td>-3</td><td> 2</td><td> 1</td><td>-2</td><td> 0</td><td>-3</td><td>⋯</td><td>-1</td><td> 0</td><td>-1</td><td>-3</td><td>-2</td><td>-3</td><td> 0</td><td> 1</td><td>-1</td><td>-5</td></tr>\n",
       "\t<tr><th scope=row>M</th><td>-1</td><td>-2</td><td>-2</td><td>-4</td><td>-2</td><td> 0</td><td>-2</td><td>-3</td><td>-1</td><td> 2</td><td>⋯</td><td>-3</td><td>-2</td><td>-1</td><td>-1</td><td> 0</td><td> 1</td><td>-3</td><td>-1</td><td>-1</td><td>-5</td></tr>\n",
       "\t<tr><th scope=row>F</th><td>-3</td><td>-3</td><td>-4</td><td>-5</td><td>-2</td><td>-4</td><td>-3</td><td>-4</td><td>-1</td><td> 0</td><td>⋯</td><td>-4</td><td>-3</td><td>-2</td><td> 1</td><td> 4</td><td>-1</td><td>-4</td><td>-4</td><td>-2</td><td>-5</td></tr>\n",
       "\t<tr><th scope=row>P</th><td>-1</td><td>-3</td><td>-2</td><td>-1</td><td>-4</td><td>-1</td><td>-1</td><td>-2</td><td>-2</td><td>-3</td><td>⋯</td><td>10</td><td>-1</td><td>-1</td><td>-4</td><td>-3</td><td>-3</td><td>-2</td><td>-1</td><td>-2</td><td>-5</td></tr>\n",
       "\t<tr><th scope=row>S</th><td> 1</td><td>-1</td><td> 1</td><td> 0</td><td>-1</td><td> 0</td><td>-1</td><td> 0</td><td>-1</td><td>-3</td><td>⋯</td><td>-1</td><td> 5</td><td> 2</td><td>-4</td><td>-2</td><td>-2</td><td> 0</td><td> 0</td><td>-1</td><td>-5</td></tr>\n",
       "\t<tr><th scope=row>T</th><td> 0</td><td>-1</td><td> 0</td><td>-1</td><td>-1</td><td>-1</td><td>-1</td><td>-2</td><td>-2</td><td>-1</td><td>⋯</td><td>-1</td><td> 2</td><td> 5</td><td>-3</td><td>-2</td><td> 0</td><td> 0</td><td>-1</td><td> 0</td><td>-5</td></tr>\n",
       "\t<tr><th scope=row>W</th><td>-3</td><td>-3</td><td>-4</td><td>-5</td><td>-5</td><td>-1</td><td>-3</td><td>-3</td><td>-3</td><td>-3</td><td>⋯</td><td>-4</td><td>-4</td><td>-3</td><td>15</td><td> 2</td><td>-3</td><td>-5</td><td>-2</td><td>-3</td><td>-5</td></tr>\n",
       "\t<tr><th scope=row>Y</th><td>-2</td><td>-1</td><td>-2</td><td>-3</td><td>-3</td><td>-1</td><td>-2</td><td>-3</td><td> 2</td><td>-1</td><td>⋯</td><td>-3</td><td>-2</td><td>-2</td><td> 2</td><td> 8</td><td>-1</td><td>-3</td><td>-2</td><td>-1</td><td>-5</td></tr>\n",
       "\t<tr><th scope=row>V</th><td> 0</td><td>-3</td><td>-3</td><td>-4</td><td>-1</td><td>-3</td><td>-3</td><td>-4</td><td>-4</td><td> 4</td><td>⋯</td><td>-3</td><td>-2</td><td> 0</td><td>-3</td><td>-1</td><td> 5</td><td>-4</td><td>-3</td><td>-1</td><td>-5</td></tr>\n",
       "\t<tr><th scope=row>B</th><td>-2</td><td>-1</td><td> 4</td><td> 5</td><td>-3</td><td> 0</td><td> 1</td><td>-1</td><td> 0</td><td>-4</td><td>⋯</td><td>-2</td><td> 0</td><td> 0</td><td>-5</td><td>-3</td><td>-4</td><td> 5</td><td> 2</td><td>-1</td><td>-5</td></tr>\n",
       "\t<tr><th scope=row>Z</th><td>-1</td><td> 0</td><td> 0</td><td> 1</td><td>-3</td><td> 4</td><td> 5</td><td>-2</td><td> 0</td><td>-3</td><td>⋯</td><td>-1</td><td> 0</td><td>-1</td><td>-2</td><td>-2</td><td>-3</td><td> 2</td><td> 5</td><td>-1</td><td>-5</td></tr>\n",
       "\t<tr><th scope=row>X</th><td>-1</td><td>-1</td><td>-1</td><td>-1</td><td>-2</td><td>-1</td><td>-1</td><td>-2</td><td>-1</td><td>-1</td><td>⋯</td><td>-2</td><td>-1</td><td> 0</td><td>-3</td><td>-1</td><td>-1</td><td>-1</td><td>-1</td><td>-1</td><td>-5</td></tr>\n",
       "\t<tr><th scope=row>*</th><td>-5</td><td>-5</td><td>-5</td><td>-5</td><td>-5</td><td>-5</td><td>-5</td><td>-5</td><td>-5</td><td>-5</td><td>⋯</td><td>-5</td><td>-5</td><td>-5</td><td>-5</td><td>-5</td><td>-5</td><td>-5</td><td>-5</td><td>-5</td><td> 1</td></tr>\n",
       "</tbody>\n",
       "</table>\n"
      ],
      "text/latex": [
       "A matrix: 24 × 24 of type int\n",
       "\\begin{tabular}{r|lllllllllllllllllllll}\n",
       "  & A & R & N & D & C & Q & E & G & H & I & ⋯ & P & S & T & W & Y & V & B & Z & X & *\\\\\n",
       "\\hline\n",
       "\tA &  5 & -2 & -1 & -2 & -1 & -1 & -1 &  0 & -2 & -1 & ⋯ & -1 &  1 &  0 & -3 & -2 &  0 & -2 & -1 & -1 & -5\\\\\n",
       "\tR & -2 &  7 & -1 & -2 & -4 &  1 &  0 & -3 &  0 & -4 & ⋯ & -3 & -1 & -1 & -3 & -1 & -3 & -1 &  0 & -1 & -5\\\\\n",
       "\tN & -1 & -1 &  7 &  2 & -2 &  0 &  0 &  0 &  1 & -3 & ⋯ & -2 &  1 &  0 & -4 & -2 & -3 &  4 &  0 & -1 & -5\\\\\n",
       "\tD & -2 & -2 &  2 &  8 & -4 &  0 &  2 & -1 & -1 & -4 & ⋯ & -1 &  0 & -1 & -5 & -3 & -4 &  5 &  1 & -1 & -5\\\\\n",
       "\tC & -1 & -4 & -2 & -4 & 13 & -3 & -3 & -3 & -3 & -2 & ⋯ & -4 & -1 & -1 & -5 & -3 & -1 & -3 & -3 & -2 & -5\\\\\n",
       "\tQ & -1 &  1 &  0 &  0 & -3 &  7 &  2 & -2 &  1 & -3 & ⋯ & -1 &  0 & -1 & -1 & -1 & -3 &  0 &  4 & -1 & -5\\\\\n",
       "\tE & -1 &  0 &  0 &  2 & -3 &  2 &  6 & -3 &  0 & -4 & ⋯ & -1 & -1 & -1 & -3 & -2 & -3 &  1 &  5 & -1 & -5\\\\\n",
       "\tG &  0 & -3 &  0 & -1 & -3 & -2 & -3 &  8 & -2 & -4 & ⋯ & -2 &  0 & -2 & -3 & -3 & -4 & -1 & -2 & -2 & -5\\\\\n",
       "\tH & -2 &  0 &  1 & -1 & -3 &  1 &  0 & -2 & 10 & -4 & ⋯ & -2 & -1 & -2 & -3 &  2 & -4 &  0 &  0 & -1 & -5\\\\\n",
       "\tI & -1 & -4 & -3 & -4 & -2 & -3 & -4 & -4 & -4 &  5 & ⋯ & -3 & -3 & -1 & -3 & -1 &  4 & -4 & -3 & -1 & -5\\\\\n",
       "\tL & -2 & -3 & -4 & -4 & -2 & -2 & -3 & -4 & -3 &  2 & ⋯ & -4 & -3 & -1 & -2 & -1 &  1 & -4 & -3 & -1 & -5\\\\\n",
       "\tK & -1 &  3 &  0 & -1 & -3 &  2 &  1 & -2 &  0 & -3 & ⋯ & -1 &  0 & -1 & -3 & -2 & -3 &  0 &  1 & -1 & -5\\\\\n",
       "\tM & -1 & -2 & -2 & -4 & -2 &  0 & -2 & -3 & -1 &  2 & ⋯ & -3 & -2 & -1 & -1 &  0 &  1 & -3 & -1 & -1 & -5\\\\\n",
       "\tF & -3 & -3 & -4 & -5 & -2 & -4 & -3 & -4 & -1 &  0 & ⋯ & -4 & -3 & -2 &  1 &  4 & -1 & -4 & -4 & -2 & -5\\\\\n",
       "\tP & -1 & -3 & -2 & -1 & -4 & -1 & -1 & -2 & -2 & -3 & ⋯ & 10 & -1 & -1 & -4 & -3 & -3 & -2 & -1 & -2 & -5\\\\\n",
       "\tS &  1 & -1 &  1 &  0 & -1 &  0 & -1 &  0 & -1 & -3 & ⋯ & -1 &  5 &  2 & -4 & -2 & -2 &  0 &  0 & -1 & -5\\\\\n",
       "\tT &  0 & -1 &  0 & -1 & -1 & -1 & -1 & -2 & -2 & -1 & ⋯ & -1 &  2 &  5 & -3 & -2 &  0 &  0 & -1 &  0 & -5\\\\\n",
       "\tW & -3 & -3 & -4 & -5 & -5 & -1 & -3 & -3 & -3 & -3 & ⋯ & -4 & -4 & -3 & 15 &  2 & -3 & -5 & -2 & -3 & -5\\\\\n",
       "\tY & -2 & -1 & -2 & -3 & -3 & -1 & -2 & -3 &  2 & -1 & ⋯ & -3 & -2 & -2 &  2 &  8 & -1 & -3 & -2 & -1 & -5\\\\\n",
       "\tV &  0 & -3 & -3 & -4 & -1 & -3 & -3 & -4 & -4 &  4 & ⋯ & -3 & -2 &  0 & -3 & -1 &  5 & -4 & -3 & -1 & -5\\\\\n",
       "\tB & -2 & -1 &  4 &  5 & -3 &  0 &  1 & -1 &  0 & -4 & ⋯ & -2 &  0 &  0 & -5 & -3 & -4 &  5 &  2 & -1 & -5\\\\\n",
       "\tZ & -1 &  0 &  0 &  1 & -3 &  4 &  5 & -2 &  0 & -3 & ⋯ & -1 &  0 & -1 & -2 & -2 & -3 &  2 &  5 & -1 & -5\\\\\n",
       "\tX & -1 & -1 & -1 & -1 & -2 & -1 & -1 & -2 & -1 & -1 & ⋯ & -2 & -1 &  0 & -3 & -1 & -1 & -1 & -1 & -1 & -5\\\\\n",
       "\t* & -5 & -5 & -5 & -5 & -5 & -5 & -5 & -5 & -5 & -5 & ⋯ & -5 & -5 & -5 & -5 & -5 & -5 & -5 & -5 & -5 &  1\\\\\n",
       "\\end{tabular}\n"
      ],
      "text/markdown": [
       "\n",
       "A matrix: 24 × 24 of type int\n",
       "\n",
       "| <!--/--> | A | R | N | D | C | Q | E | G | H | I | ⋯ | P | S | T | W | Y | V | B | Z | X | * |\n",
       "|---|---|---|---|---|---|---|---|---|---|---|---|---|---|---|---|---|---|---|---|---|---|\n",
       "| A |  5 | -2 | -1 | -2 | -1 | -1 | -1 |  0 | -2 | -1 | ⋯ | -1 |  1 |  0 | -3 | -2 |  0 | -2 | -1 | -1 | -5 |\n",
       "| R | -2 |  7 | -1 | -2 | -4 |  1 |  0 | -3 |  0 | -4 | ⋯ | -3 | -1 | -1 | -3 | -1 | -3 | -1 |  0 | -1 | -5 |\n",
       "| N | -1 | -1 |  7 |  2 | -2 |  0 |  0 |  0 |  1 | -3 | ⋯ | -2 |  1 |  0 | -4 | -2 | -3 |  4 |  0 | -1 | -5 |\n",
       "| D | -2 | -2 |  2 |  8 | -4 |  0 |  2 | -1 | -1 | -4 | ⋯ | -1 |  0 | -1 | -5 | -3 | -4 |  5 |  1 | -1 | -5 |\n",
       "| C | -1 | -4 | -2 | -4 | 13 | -3 | -3 | -3 | -3 | -2 | ⋯ | -4 | -1 | -1 | -5 | -3 | -1 | -3 | -3 | -2 | -5 |\n",
       "| Q | -1 |  1 |  0 |  0 | -3 |  7 |  2 | -2 |  1 | -3 | ⋯ | -1 |  0 | -1 | -1 | -1 | -3 |  0 |  4 | -1 | -5 |\n",
       "| E | -1 |  0 |  0 |  2 | -3 |  2 |  6 | -3 |  0 | -4 | ⋯ | -1 | -1 | -1 | -3 | -2 | -3 |  1 |  5 | -1 | -5 |\n",
       "| G |  0 | -3 |  0 | -1 | -3 | -2 | -3 |  8 | -2 | -4 | ⋯ | -2 |  0 | -2 | -3 | -3 | -4 | -1 | -2 | -2 | -5 |\n",
       "| H | -2 |  0 |  1 | -1 | -3 |  1 |  0 | -2 | 10 | -4 | ⋯ | -2 | -1 | -2 | -3 |  2 | -4 |  0 |  0 | -1 | -5 |\n",
       "| I | -1 | -4 | -3 | -4 | -2 | -3 | -4 | -4 | -4 |  5 | ⋯ | -3 | -3 | -1 | -3 | -1 |  4 | -4 | -3 | -1 | -5 |\n",
       "| L | -2 | -3 | -4 | -4 | -2 | -2 | -3 | -4 | -3 |  2 | ⋯ | -4 | -3 | -1 | -2 | -1 |  1 | -4 | -3 | -1 | -5 |\n",
       "| K | -1 |  3 |  0 | -1 | -3 |  2 |  1 | -2 |  0 | -3 | ⋯ | -1 |  0 | -1 | -3 | -2 | -3 |  0 |  1 | -1 | -5 |\n",
       "| M | -1 | -2 | -2 | -4 | -2 |  0 | -2 | -3 | -1 |  2 | ⋯ | -3 | -2 | -1 | -1 |  0 |  1 | -3 | -1 | -1 | -5 |\n",
       "| F | -3 | -3 | -4 | -5 | -2 | -4 | -3 | -4 | -1 |  0 | ⋯ | -4 | -3 | -2 |  1 |  4 | -1 | -4 | -4 | -2 | -5 |\n",
       "| P | -1 | -3 | -2 | -1 | -4 | -1 | -1 | -2 | -2 | -3 | ⋯ | 10 | -1 | -1 | -4 | -3 | -3 | -2 | -1 | -2 | -5 |\n",
       "| S |  1 | -1 |  1 |  0 | -1 |  0 | -1 |  0 | -1 | -3 | ⋯ | -1 |  5 |  2 | -4 | -2 | -2 |  0 |  0 | -1 | -5 |\n",
       "| T |  0 | -1 |  0 | -1 | -1 | -1 | -1 | -2 | -2 | -1 | ⋯ | -1 |  2 |  5 | -3 | -2 |  0 |  0 | -1 |  0 | -5 |\n",
       "| W | -3 | -3 | -4 | -5 | -5 | -1 | -3 | -3 | -3 | -3 | ⋯ | -4 | -4 | -3 | 15 |  2 | -3 | -5 | -2 | -3 | -5 |\n",
       "| Y | -2 | -1 | -2 | -3 | -3 | -1 | -2 | -3 |  2 | -1 | ⋯ | -3 | -2 | -2 |  2 |  8 | -1 | -3 | -2 | -1 | -5 |\n",
       "| V |  0 | -3 | -3 | -4 | -1 | -3 | -3 | -4 | -4 |  4 | ⋯ | -3 | -2 |  0 | -3 | -1 |  5 | -4 | -3 | -1 | -5 |\n",
       "| B | -2 | -1 |  4 |  5 | -3 |  0 |  1 | -1 |  0 | -4 | ⋯ | -2 |  0 |  0 | -5 | -3 | -4 |  5 |  2 | -1 | -5 |\n",
       "| Z | -1 |  0 |  0 |  1 | -3 |  4 |  5 | -2 |  0 | -3 | ⋯ | -1 |  0 | -1 | -2 | -2 | -3 |  2 |  5 | -1 | -5 |\n",
       "| X | -1 | -1 | -1 | -1 | -2 | -1 | -1 | -2 | -1 | -1 | ⋯ | -2 | -1 |  0 | -3 | -1 | -1 | -1 | -1 | -1 | -5 |\n",
       "| * | -5 | -5 | -5 | -5 | -5 | -5 | -5 | -5 | -5 | -5 | ⋯ | -5 | -5 | -5 | -5 | -5 | -5 | -5 | -5 | -5 |  1 |\n",
       "\n"
      ],
      "text/plain": [
       "  A  R  N  D  C  Q  E  G  H  I  ⋯ P  S  T  W  Y  V  B  Z  X  * \n",
       "A  5 -2 -1 -2 -1 -1 -1  0 -2 -1 ⋯ -1  1  0 -3 -2  0 -2 -1 -1 -5\n",
       "R -2  7 -1 -2 -4  1  0 -3  0 -4 ⋯ -3 -1 -1 -3 -1 -3 -1  0 -1 -5\n",
       "N -1 -1  7  2 -2  0  0  0  1 -3 ⋯ -2  1  0 -4 -2 -3  4  0 -1 -5\n",
       "D -2 -2  2  8 -4  0  2 -1 -1 -4 ⋯ -1  0 -1 -5 -3 -4  5  1 -1 -5\n",
       "C -1 -4 -2 -4 13 -3 -3 -3 -3 -2 ⋯ -4 -1 -1 -5 -3 -1 -3 -3 -2 -5\n",
       "Q -1  1  0  0 -3  7  2 -2  1 -3 ⋯ -1  0 -1 -1 -1 -3  0  4 -1 -5\n",
       "E -1  0  0  2 -3  2  6 -3  0 -4 ⋯ -1 -1 -1 -3 -2 -3  1  5 -1 -5\n",
       "G  0 -3  0 -1 -3 -2 -3  8 -2 -4 ⋯ -2  0 -2 -3 -3 -4 -1 -2 -2 -5\n",
       "H -2  0  1 -1 -3  1  0 -2 10 -4 ⋯ -2 -1 -2 -3  2 -4  0  0 -1 -5\n",
       "I -1 -4 -3 -4 -2 -3 -4 -4 -4  5 ⋯ -3 -3 -1 -3 -1  4 -4 -3 -1 -5\n",
       "L -2 -3 -4 -4 -2 -2 -3 -4 -3  2 ⋯ -4 -3 -1 -2 -1  1 -4 -3 -1 -5\n",
       "K -1  3  0 -1 -3  2  1 -2  0 -3 ⋯ -1  0 -1 -3 -2 -3  0  1 -1 -5\n",
       "M -1 -2 -2 -4 -2  0 -2 -3 -1  2 ⋯ -3 -2 -1 -1  0  1 -3 -1 -1 -5\n",
       "F -3 -3 -4 -5 -2 -4 -3 -4 -1  0 ⋯ -4 -3 -2  1  4 -1 -4 -4 -2 -5\n",
       "P -1 -3 -2 -1 -4 -1 -1 -2 -2 -3 ⋯ 10 -1 -1 -4 -3 -3 -2 -1 -2 -5\n",
       "S  1 -1  1  0 -1  0 -1  0 -1 -3 ⋯ -1  5  2 -4 -2 -2  0  0 -1 -5\n",
       "T  0 -1  0 -1 -1 -1 -1 -2 -2 -1 ⋯ -1  2  5 -3 -2  0  0 -1  0 -5\n",
       "W -3 -3 -4 -5 -5 -1 -3 -3 -3 -3 ⋯ -4 -4 -3 15  2 -3 -5 -2 -3 -5\n",
       "Y -2 -1 -2 -3 -3 -1 -2 -3  2 -1 ⋯ -3 -2 -2  2  8 -1 -3 -2 -1 -5\n",
       "V  0 -3 -3 -4 -1 -3 -3 -4 -4  4 ⋯ -3 -2  0 -3 -1  5 -4 -3 -1 -5\n",
       "B -2 -1  4  5 -3  0  1 -1  0 -4 ⋯ -2  0  0 -5 -3 -4  5  2 -1 -5\n",
       "Z -1  0  0  1 -3  4  5 -2  0 -3 ⋯ -1  0 -1 -2 -2 -3  2  5 -1 -5\n",
       "X -1 -1 -1 -1 -2 -1 -1 -2 -1 -1 ⋯ -2 -1  0 -3 -1 -1 -1 -1 -1 -5\n",
       "* -5 -5 -5 -5 -5 -5 -5 -5 -5 -5 ⋯ -5 -5 -5 -5 -5 -5 -5 -5 -5  1"
      ]
     },
     "metadata": {},
     "output_type": "display_data"
    }
   ],
   "source": [
    "BLOSUM50# Print out the matrix"
   ]
  },
  {
   "cell_type": "code",
   "execution_count": 6,
   "metadata": {
    "scrolled": true
   },
   "outputs": [
    {
     "data": {
      "text/plain": [
       "Global PairwiseAlignmentsSingleSubject (1 of 1)\n",
       "pattern: P---AWHEAE\n",
       "subject: HEAGAWGHEE\n",
       "score: -5 "
      ]
     },
     "metadata": {},
     "output_type": "display_data"
    }
   ],
   "source": [
    "s3 <- \"PAWHEAE\"\n",
    "s4 <- \"HEAGAWGHEE\"\n",
    "globalAligns3s4 <- pairwiseAlignment(s3, s4, substitutionMatrix =BLOSUM50, gapOpening = -2, \n",
    "                                     gapExtension = -8, scoreOnly = FALSE)\n",
    "globalAligns3s4 # Print out the optimal global alignment and its score"
   ]
  },
  {
   "cell_type": "markdown",
   "metadata": {},
   "source": [
    "### Calculating the statistical significance of a pairwise global alignment¶\n",
    "\n",
    "How do we know if this alignment of score -5 is **statistically significant**?\n",
    "\n",
    "We can measure this by caculating a **p-value** for this score.\n",
    "\n",
    "Recall that p-value is probability of obtaining test results at least as extreme as the results actually observed during the test, assuming that the null hypothesis is correct.\n",
    "\n",
    "In our case, we want the probability of obtaining alignment scores (\"test result\") at least as good as the alignment score actually observed (-5), for two random sequences of the same length and composition.\n",
    "\n",
    "This means we first need to generate random sequences with the same length and amino acid composition as the query sequence.  The `generateSeqsWithMultinomialModel` function below can achieve this.  Execute the code."
   ]
  },
  {
   "cell_type": "code",
   "execution_count": 7,
   "metadata": {},
   "outputs": [],
   "source": [
    "generateSeqsWithMultinomialModel <- function(inputsequence, X) {\n",
    "     # Change the input sequence into a vector of letters\n",
    "     require(\"seqinr\") # This function requires the SeqinR package.\n",
    "     inputsequencevector <- s2c(inputsequence)\n",
    "     # Find the frequencies of the letters in the input sequence \"inputsequencevector\":\n",
    "     mylength <- length(inputsequencevector)\n",
    "     mytable <- table(inputsequencevector)\n",
    "     # Find the names of the letters in the sequence\n",
    "     letters <- rownames(mytable)\n",
    "     numletters <- length(letters)\n",
    "     probabilities <- numeric() # Make a vector to store the probabilities of letters\n",
    "     for (i in 1:numletters)\n",
    "     {\n",
    "        letter <- letters[i]\n",
    "        count <- mytable[[i]]\n",
    "        probabilities[i] <- count/mylength\n",
    "     }\n",
    "     # Make X random sequences using the multinomial model with probabilities \"probabilities\"\n",
    "     seqs <- numeric(X)\n",
    "     for (j in 1:X)\n",
    "     {\n",
    "        seq <- sample(letters, mylength, rep=TRUE, prob=probabilities) # Sample with replacement\n",
    "        seq <- c2s(seq)\n",
    "        seqs[j] <- seq\n",
    "     }\n",
    "     # Return the vector of random sequences\n",
    "     return(seqs)\n",
    "  }"
   ]
  },
  {
   "cell_type": "markdown",
   "metadata": {},
   "source": [
    "Now we create 1000 random sequences with the same length and amino acid composition as the sequence 'PAWHEAE'."
   ]
  },
  {
   "cell_type": "code",
   "execution_count": 8,
   "metadata": {},
   "outputs": [
    {
     "name": "stderr",
     "output_type": "stream",
     "text": [
      "Loading required package: seqinr\n",
      "\n",
      "\n",
      "Attaching package: ‘seqinr’\n",
      "\n",
      "\n",
      "The following object is masked from ‘package:Biostrings’:\n",
      "\n",
      "    translate\n",
      "\n",
      "\n"
     ]
    }
   ],
   "source": [
    "randomseqs <- generateSeqsWithMultinomialModel('PAWHEAE',1000)"
   ]
  },
  {
   "cell_type": "markdown",
   "metadata": {},
   "source": [
    "Take a look at the first 10 sequences.  Note that `randomseqs` is a vector where each element is a string."
   ]
  },
  {
   "cell_type": "code",
   "execution_count": 9,
   "metadata": {},
   "outputs": [
    {
     "data": {
      "text/html": [
       "<style>\n",
       ".list-inline {list-style: none; margin:0; padding: 0}\n",
       ".list-inline>li {display: inline-block}\n",
       ".list-inline>li:not(:last-child)::after {content: \"\\00b7\"; padding: 0 .5ex}\n",
       "</style>\n",
       "<ol class=list-inline><li>'AWHEWEP'</li><li>'EEEAWEW'</li><li>'EAEEAEW'</li><li>'EAHAWAA'</li><li>'EAWAEWP'</li><li>'AHAWAAW'</li><li>'AEEAWEE'</li><li>'EPWWEEE'</li><li>'AHAWWWA'</li><li>'AAPEAAA'</li></ol>\n"
      ],
      "text/latex": [
       "\\begin{enumerate*}\n",
       "\\item 'AWHEWEP'\n",
       "\\item 'EEEAWEW'\n",
       "\\item 'EAEEAEW'\n",
       "\\item 'EAHAWAA'\n",
       "\\item 'EAWAEWP'\n",
       "\\item 'AHAWAAW'\n",
       "\\item 'AEEAWEE'\n",
       "\\item 'EPWWEEE'\n",
       "\\item 'AHAWWWA'\n",
       "\\item 'AAPEAAA'\n",
       "\\end{enumerate*}\n"
      ],
      "text/markdown": [
       "1. 'AWHEWEP'\n",
       "2. 'EEEAWEW'\n",
       "3. 'EAEEAEW'\n",
       "4. 'EAHAWAA'\n",
       "5. 'EAWAEWP'\n",
       "6. 'AHAWAAW'\n",
       "7. 'AEEAWEE'\n",
       "8. 'EPWWEEE'\n",
       "9. 'AHAWWWA'\n",
       "10. 'AAPEAAA'\n",
       "\n",
       "\n"
      ],
      "text/plain": [
       " [1] \"AWHEWEP\" \"EEEAWEW\" \"EAEEAEW\" \"EAHAWAA\" \"EAWAEWP\" \"AHAWAAW\" \"AEEAWEE\"\n",
       " [8] \"EPWWEEE\" \"AHAWWWA\" \"AAPEAAA\""
      ]
     },
     "metadata": {},
     "output_type": "display_data"
    }
   ],
   "source": [
    "randomseqs[1:10]"
   ]
  },
  {
   "cell_type": "markdown",
   "metadata": {},
   "source": [
    "Now we can align `s4` to each of the 10000 random sequences that have the same length and amino acid composition as `s3`.  The code below aligns `s4` to the first of the 1000 random sequences."
   ]
  },
  {
   "cell_type": "code",
   "execution_count": 10,
   "metadata": {},
   "outputs": [
    {
     "data": {
      "text/plain": [
       "Global PairwiseAlignmentsSingleSubject (1 of 1)\n",
       "pattern: HEAGAWGHEE\n",
       "subject: -AWHEW--EP\n",
       "score: -15 "
      ]
     },
     "metadata": {},
     "output_type": "display_data"
    }
   ],
   "source": [
    "pairwiseAlignment(s4, randomseqs[1], substitutionMatrix = BLOSUM50, gapOpening = -2,\n",
    "                  gapExtension = -8, scoreOnly = FALSE)"
   ]
  },
  {
   "cell_type": "markdown",
   "metadata": {},
   "source": [
    "Setting the argument `scoeOnly = TRUE` only returns the alignment score."
   ]
  },
  {
   "cell_type": "code",
   "execution_count": 11,
   "metadata": {},
   "outputs": [
    {
     "data": {
      "text/html": [
       "-15"
      ],
      "text/latex": [
       "-15"
      ],
      "text/markdown": [
       "-15"
      ],
      "text/plain": [
       "[1] -15"
      ]
     },
     "metadata": {},
     "output_type": "display_data"
    }
   ],
   "source": [
    "pairwiseAlignment(s4, randomseqs[1], substitutionMatrix = BLOSUM50, gapOpening = -2, \n",
    "                  gapExtension = -8, scoreOnly = TRUE)"
   ]
  },
  {
   "cell_type": "markdown",
   "metadata": {},
   "source": [
    "Now if we repeat this for all the 1000 sequences in `randomseqs`, we will get 1000 scores for each alignment.  These 1000 scores creates a **distribution** of scores for aligning `s4` ('HEAGAWGHEE') to 1000 random sequences with the same length and (approximately) the same amino acid composition as `s3` ('PAWHEAE')\n",
    "\n",
    "\n",
    "We can then compare the actual score for aligning 'HEAGAWGHEE' to 'PAWHEAE’ (ie. -5) to the distribution of scores for aligning ‘HEAGAWGHEE’ to the random sequences.\n",
    "\n",
    "We first define a empty vector `randomscores` of size 1000 of type `double` (meaning numbers that can have decimals).  Then we use a `for loop` to take each of the 1000 different random sequences, aligns each one to 'HEAGAWGHEE, and stores the 1000 alignment scores in the `randomscores` vector."
   ]
  },
  {
   "cell_type": "code",
   "execution_count": 12,
   "metadata": {},
   "outputs": [],
   "source": [
    "randomscores <- double(1000) "
   ]
  },
  {
   "cell_type": "code",
   "execution_count": 13,
   "metadata": {},
   "outputs": [],
   "source": [
    "for (i in 1:1000) {\n",
    "    score <- pairwiseAlignment(s4, randomseqs[i], substitutionMatrix=BLOSUM50,\n",
    "                               gapOpening=-2,gapExtension=-8,scoreOnly=TRUE)\n",
    "    randomscores[i] <- score\n",
    "}"
   ]
  },
  {
   "cell_type": "markdown",
   "metadata": {},
   "source": [
    "Now the `randomscores` vector has the scores for aligning the 1000 ranom sequences!  Take a look at the first 10."
   ]
  },
  {
   "cell_type": "code",
   "execution_count": 14,
   "metadata": {},
   "outputs": [
    {
     "data": {
      "text/html": [
       "<style>\n",
       ".list-inline {list-style: none; margin:0; padding: 0}\n",
       ".list-inline>li {display: inline-block}\n",
       ".list-inline>li:not(:last-child)::after {content: \"\\00b7\"; padding: 0 .5ex}\n",
       "</style>\n",
       "<ol class=list-inline><li>-15</li><li>0</li><li>-20</li><li>0</li><li>-6</li><li>-9</li><li>7</li><li>1</li><li>-12</li><li>-29</li></ol>\n"
      ],
      "text/latex": [
       "\\begin{enumerate*}\n",
       "\\item -15\n",
       "\\item 0\n",
       "\\item -20\n",
       "\\item 0\n",
       "\\item -6\n",
       "\\item -9\n",
       "\\item 7\n",
       "\\item 1\n",
       "\\item -12\n",
       "\\item -29\n",
       "\\end{enumerate*}\n"
      ],
      "text/markdown": [
       "1. -15\n",
       "2. 0\n",
       "3. -20\n",
       "4. 0\n",
       "5. -6\n",
       "6. -9\n",
       "7. 7\n",
       "8. 1\n",
       "9. -12\n",
       "10. -29\n",
       "\n",
       "\n"
      ],
      "text/plain": [
       " [1] -15   0 -20   0  -6  -9   7   1 -12 -29"
      ]
     },
     "metadata": {},
     "output_type": "display_data"
    }
   ],
   "source": [
    "randomscores[1:10]"
   ]
  },
  {
   "cell_type": "markdown",
   "metadata": {},
   "source": [
    "The `hist` function takes a numeric vector and plots a *histogram* for the *distribution* of the vector."
   ]
  },
  {
   "cell_type": "code",
   "execution_count": 15,
   "metadata": {},
   "outputs": [
    {
     "data": {
      "image/png": "[encoded data removed]",
      "text/plain": [
       "Plot with title “Histogram of randomscores”"
      ]
     },
     "metadata": {
      "image/png": {
       "height": 420,
       "width": 420
      }
     },
     "output_type": "display_data"
    }
   ],
   "source": [
    "hist(randomscores, col=\"red\") # Draw a red histogram"
   ]
  },
  {
   "cell_type": "markdown",
   "metadata": {},
   "source": [
    "From the histogram, we can see that many alignments have higher scores than -5.\n",
    "\n",
    "To calculate the actual p value, recall that we need to compute the probablility of obtaining alignment scores at least as good as -5.  This means scores greater than or equal to -5."
   ]
  },
  {
   "cell_type": "code",
   "execution_count": 16,
   "metadata": {},
   "outputs": [
    {
     "data": {
      "text/html": [
       "289"
      ],
      "text/latex": [
       "289"
      ],
      "text/markdown": [
       "289"
      ],
      "text/plain": [
       "[1] 289"
      ]
     },
     "metadata": {},
     "output_type": "display_data"
    }
   ],
   "source": [
    "count_more_than_5 <- sum(randomscores >= -5)\n",
    "count_more_than_5"
   ]
  },
  {
   "cell_type": "markdown",
   "metadata": {},
   "source": [
    "We see that there are almost 300 alignments that satisfy this criteria (you might get a slightly different number).  Since we generated 1000 sequences, the p-value is "
   ]
  },
  {
   "cell_type": "code",
   "execution_count": 17,
   "metadata": {},
   "outputs": [
    {
     "data": {
      "text/html": [
       "0.289"
      ],
      "text/latex": [
       "0.289"
      ],
      "text/markdown": [
       "0.289"
      ],
      "text/plain": [
       "[1] 0.289"
      ]
     },
     "metadata": {},
     "output_type": "display_data"
    }
   ],
   "source": [
    "count_more_than_5/1000"
   ]
  },
  {
   "cell_type": "markdown",
   "metadata": {},
   "source": [
    "### Exercises\n",
    "\n",
    "Q1. What is the p-value of the alignment if you use 100 random sequences?  5000 random sequences?  Compare your results to your neighbor's.  What do you think it's happening?"
   ]
  },
  {
   "cell_type": "code",
   "execution_count": null,
   "metadata": {},
   "outputs": [],
   "source": []
  },
  {
   "cell_type": "code",
   "execution_count": null,
   "metadata": {},
   "outputs": [],
   "source": []
  }
 ],
 "metadata": {
  "kernelspec": {
   "display_name": "R [conda env:r_4.4]",
   "language": "R",
   "name": "conda-env-r_4.4-r"
  },
  "language_info": {
   "codemirror_mode": "r",
   "file_extension": ".r",
   "mimetype": "text/x-r-source",
   "name": "R",
   "pygments_lexer": "r",
   "version": "4.4.2"
  }
 },
 "nbformat": 4,
 "nbformat_minor": 4
}
