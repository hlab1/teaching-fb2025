{
 "cells": [
  {
   "cell_type": "markdown",
   "metadata": {},
   "source": [
    "## Pairwise sequence alignment in R"
   ]
  },
  {
   "cell_type": "markdown",
   "metadata": {},
   "source": [
    "### Getting started\n",
    "\n",
    "1. Enter the \"my_notebooks\" folder and create a new folder \"week02\".  \n",
    "2. In the \"my_notebooks/week02\" folder, open a notebook from this URL https://raw.githubusercontent.com/hlab1/teaching-fb2025/refs/heads/main/week02/week02_p1_seqAln_SARS.ipynb.\n",
    "3. Clear all outputs by \"Kernel\"->\"Restart Kernel and Clear All Outputs\"."
   ]
  },
  {
   "cell_type": "markdown",
   "metadata": {},
   "source": [
    "### Good housekeeping\n",
    "\n",
    "1. At any time if you want to stop the notebook, remember to \"Save Notebook\" before doing \"Close and Shut Down Notebook\". \n",
    "2. The \"Runing Terminals and Kernels\" tab on the left gives you a list of the kernels (notebooks) that you have running. To save memory, you can shutdown the kernels that you are currenly not using.\n",
    "3. When you are done for the day, choose \"File\"->\"Hub Control Panel\", then click the button \"Stop My Server\"."
   ]
  },
  {
   "cell_type": "markdown",
   "metadata": {},
   "source": [
    "### Obtaining protein sequences from UniProt and NCBI\n",
    "\n",
    "The spike glycoprotein (S) mediates receptor binding and membrane fusion of the virion so it is critical determinant of host range.  We will compare the S protein sequences of the severe acute respiratory syndrome coronavirus (SARS-CoV) and the severe acute respiratory syndrome coronavirus 2 (SARS-CoV-2).\n",
    "1. Go to the UniProt database (https://www.uniprot.org), search for the accession \"Q6R7Y6\". Select \"Download\"->\"FASTA (Canonical)\" and save the FASTA file to \"Q6R7Y6.fasta\".\n",
    "2. Go NCBI (https://www.ncbi.nlm.nih.gov/), search for accession \"QHD43416.1\" in the \"Protein\" database. Select \"Send to\"->\"File\"->\"FASTA\"->\"Create File\" to save the FASTA file to \"QHD43416.fasta\".\n",
    "**NOTE:** You might need to remove the .txt file name extension if your OS adds that to the downloaded files.\n",
    "3. Use the up-arrow button to upload these two files to your JupyterHub \"my_notebooks/week02\" folder."
   ]
  },
  {
   "cell_type": "code",
   "execution_count": 1,
   "metadata": {},
   "outputs": [
    {
     "name": "stderr",
     "output_type": "stream",
     "text": [
      "Loading required package: BiocGenerics\n",
      "\n",
      "\n",
      "Attaching package: ‘BiocGenerics’\n",
      "\n",
      "\n",
      "The following objects are masked from ‘package:stats’:\n",
      "\n",
      "    IQR, mad, sd, var, xtabs\n",
      "\n",
      "\n",
      "The following objects are masked from ‘package:base’:\n",
      "\n",
      "    anyDuplicated, aperm, append, as.data.frame, basename, cbind,\n",
      "    colnames, dirname, do.call, duplicated, eval, evalq, Filter, Find,\n",
      "    get, grep, grepl, intersect, is.unsorted, lapply, Map, mapply,\n",
      "    match, mget, order, paste, pmax, pmax.int, pmin, pmin.int,\n",
      "    Position, rank, rbind, Reduce, rownames, sapply, saveRDS, setdiff,\n",
      "    table, tapply, union, unique, unsplit, which.max, which.min\n",
      "\n",
      "\n",
      "Loading required package: S4Vectors\n",
      "\n",
      "Loading required package: stats4\n",
      "\n",
      "\n",
      "Attaching package: ‘S4Vectors’\n",
      "\n",
      "\n",
      "The following object is masked from ‘package:utils’:\n",
      "\n",
      "    findMatches\n",
      "\n",
      "\n",
      "The following objects are masked from ‘package:base’:\n",
      "\n",
      "    expand.grid, I, unname\n",
      "\n",
      "\n",
      "Loading required package: IRanges\n",
      "\n",
      "Loading required package: Biostrings\n",
      "\n",
      "Loading required package: XVector\n",
      "\n",
      "Loading required package: GenomeInfoDb\n",
      "\n",
      "\n",
      "Attaching package: ‘Biostrings’\n",
      "\n",
      "\n",
      "The following object is masked from ‘package:seqinr’:\n",
      "\n",
      "    translate\n",
      "\n",
      "\n",
      "The following object is masked from ‘package:base’:\n",
      "\n",
      "    strsplit\n",
      "\n",
      "\n",
      "\n",
      "Attaching package: ‘pwalign’\n",
      "\n",
      "\n",
      "The following objects are masked from ‘package:Biostrings’:\n",
      "\n",
      "    aligned, alignedPattern, alignedSubject, compareStrings, deletion,\n",
      "    errorSubstitutionMatrices, indel, insertion, mismatchSummary,\n",
      "    mismatchTable, nedit, nindel, nucleotideSubstitutionMatrix,\n",
      "    pairwiseAlignment, PairwiseAlignments,\n",
      "    PairwiseAlignmentsSingleSubject, pid, qualitySubstitutionMatrices,\n",
      "    stringDist, unaligned, writePairwiseAlignments\n",
      "\n",
      "\n"
     ]
    }
   ],
   "source": [
    "library(\"seqinr\")\n",
    "library(\"pwalign\")"
   ]
  },
  {
   "cell_type": "markdown",
   "metadata": {},
   "source": [
    "Use the `read.fasta` function to read these two files."
   ]
  },
  {
   "cell_type": "code",
   "execution_count": 2,
   "metadata": {},
   "outputs": [],
   "source": [
    "sars_spike <- read.fasta(file = \"Q6R7Y6.fasta\")\n",
    "sars2_spike <- read.fasta(file = \"QHD43416.fasta\")"
   ]
  },
  {
   "cell_type": "markdown",
   "metadata": {},
   "source": [
    "Each variable is a list of sequences, so use double square brackets to get the first (and only) sequence in the lists."
   ]
  },
  {
   "cell_type": "code",
   "execution_count": 3,
   "metadata": {
    "scrolled": true
   },
   "outputs": [],
   "source": [
    "sars_spike_seq <- sars_spike[[1]]\n",
    "sars2_spike_seq <- sars2_spike[[1]]"
   ]
  },
  {
   "cell_type": "code",
   "execution_count": 4,
   "metadata": {},
   "outputs": [
    {
     "data": {
      "text/plain": [
       "   [1] \"m\" \"f\" \"i\" \"f\" \"l\" \"l\" \"f\" \"l\" \"t\" \"l\" \"t\" \"s\" \"g\" \"s\" \"d\" \"l\" \"d\" \"r\"\n",
       "  [19] \"c\" \"t\" \"t\" \"f\" \"d\" \"d\" \"v\" \"q\" \"a\" \"p\" \"n\" \"y\" \"t\" \"q\" \"h\" \"t\" \"s\" \"s\"\n",
       "  [37] \"m\" \"r\" \"g\" \"v\" \"y\" \"y\" \"p\" \"d\" \"e\" \"i\" \"f\" \"r\" \"s\" \"d\" \"t\" \"l\" \"y\" \"l\"\n",
       "  [55] \"t\" \"q\" \"d\" \"l\" \"f\" \"l\" \"p\" \"f\" \"y\" \"s\" \"n\" \"v\" \"t\" \"g\" \"f\" \"h\" \"t\" \"i\"\n",
       "  [73] \"n\" \"h\" \"t\" \"f\" \"g\" \"n\" \"p\" \"v\" \"i\" \"p\" \"f\" \"k\" \"d\" \"g\" \"i\" \"y\" \"f\" \"a\"\n",
       "  [91] \"a\" \"t\" \"e\" \"k\" \"s\" \"n\" \"v\" \"v\" \"r\" \"g\" \"w\" \"v\" \"f\" \"g\" \"s\" \"t\" \"m\" \"n\"\n",
       " [109] \"n\" \"k\" \"s\" \"q\" \"s\" \"v\" \"i\" \"i\" \"i\" \"n\" \"n\" \"s\" \"t\" \"n\" \"v\" \"v\" \"i\" \"r\"\n",
       " [127] \"a\" \"c\" \"n\" \"f\" \"e\" \"l\" \"c\" \"d\" \"n\" \"p\" \"f\" \"f\" \"a\" \"v\" \"s\" \"k\" \"p\" \"m\"\n",
       " [145] \"g\" \"t\" \"q\" \"t\" \"h\" \"t\" \"m\" \"i\" \"f\" \"d\" \"n\" \"a\" \"f\" \"n\" \"c\" \"t\" \"f\" \"e\"\n",
       " [163] \"y\" \"i\" \"s\" \"d\" \"a\" \"f\" \"s\" \"l\" \"d\" \"v\" \"s\" \"e\" \"k\" \"s\" \"g\" \"n\" \"f\" \"k\"\n",
       " [181] \"h\" \"l\" \"r\" \"e\" \"f\" \"v\" \"f\" \"k\" \"n\" \"k\" \"d\" \"g\" \"f\" \"l\" \"y\" \"v\" \"y\" \"k\"\n",
       " [199] \"g\" \"y\" \"q\" \"p\" \"i\" \"d\" \"v\" \"v\" \"r\" \"d\" \"l\" \"p\" \"s\" \"g\" \"f\" \"n\" \"t\" \"l\"\n",
       " [217] \"k\" \"p\" \"i\" \"f\" \"k\" \"l\" \"p\" \"l\" \"g\" \"i\" \"n\" \"i\" \"t\" \"n\" \"f\" \"r\" \"a\" \"i\"\n",
       " [235] \"l\" \"t\" \"a\" \"f\" \"s\" \"p\" \"a\" \"q\" \"d\" \"t\" \"w\" \"g\" \"t\" \"s\" \"a\" \"a\" \"a\" \"y\"\n",
       " [253] \"f\" \"v\" \"g\" \"y\" \"l\" \"k\" \"p\" \"t\" \"t\" \"f\" \"m\" \"l\" \"k\" \"y\" \"d\" \"e\" \"n\" \"g\"\n",
       " [271] \"t\" \"i\" \"t\" \"d\" \"a\" \"v\" \"d\" \"c\" \"s\" \"q\" \"n\" \"p\" \"l\" \"a\" \"e\" \"l\" \"k\" \"c\"\n",
       " [289] \"s\" \"v\" \"k\" \"s\" \"f\" \"e\" \"i\" \"d\" \"k\" \"g\" \"i\" \"y\" \"q\" \"t\" \"s\" \"n\" \"f\" \"r\"\n",
       " [307] \"v\" \"v\" \"p\" \"s\" \"g\" \"d\" \"v\" \"v\" \"r\" \"f\" \"p\" \"n\" \"i\" \"t\" \"n\" \"l\" \"c\" \"p\"\n",
       " [325] \"f\" \"g\" \"e\" \"v\" \"f\" \"n\" \"a\" \"t\" \"k\" \"f\" \"p\" \"s\" \"v\" \"y\" \"a\" \"w\" \"e\" \"r\"\n",
       " [343] \"k\" \"k\" \"i\" \"s\" \"n\" \"c\" \"v\" \"a\" \"d\" \"y\" \"s\" \"v\" \"l\" \"y\" \"n\" \"s\" \"t\" \"f\"\n",
       " [361] \"f\" \"s\" \"t\" \"f\" \"k\" \"c\" \"y\" \"g\" \"v\" \"s\" \"a\" \"t\" \"k\" \"l\" \"n\" \"d\" \"l\" \"c\"\n",
       " [379] \"f\" \"s\" \"n\" \"v\" \"y\" \"a\" \"d\" \"s\" \"f\" \"v\" \"v\" \"k\" \"g\" \"d\" \"d\" \"v\" \"r\" \"q\"\n",
       " [397] \"i\" \"a\" \"p\" \"g\" \"q\" \"t\" \"g\" \"v\" \"i\" \"a\" \"d\" \"y\" \"n\" \"y\" \"k\" \"l\" \"p\" \"d\"\n",
       " [415] \"d\" \"f\" \"m\" \"g\" \"c\" \"v\" \"l\" \"a\" \"w\" \"n\" \"t\" \"r\" \"n\" \"i\" \"d\" \"a\" \"t\" \"s\"\n",
       " [433] \"t\" \"g\" \"n\" \"y\" \"n\" \"y\" \"k\" \"y\" \"r\" \"y\" \"l\" \"r\" \"h\" \"g\" \"k\" \"l\" \"r\" \"p\"\n",
       " [451] \"f\" \"e\" \"r\" \"d\" \"i\" \"s\" \"n\" \"v\" \"p\" \"f\" \"s\" \"p\" \"d\" \"g\" \"k\" \"p\" \"c\" \"t\"\n",
       " [469] \"p\" \"p\" \"a\" \"l\" \"n\" \"c\" \"y\" \"w\" \"p\" \"l\" \"n\" \"d\" \"y\" \"g\" \"f\" \"y\" \"t\" \"t\"\n",
       " [487] \"t\" \"g\" \"i\" \"g\" \"y\" \"q\" \"p\" \"y\" \"r\" \"v\" \"v\" \"v\" \"l\" \"s\" \"f\" \"e\" \"l\" \"l\"\n",
       " [505] \"n\" \"a\" \"p\" \"a\" \"t\" \"v\" \"c\" \"g\" \"p\" \"k\" \"l\" \"s\" \"t\" \"d\" \"l\" \"i\" \"k\" \"n\"\n",
       " [523] \"q\" \"c\" \"v\" \"n\" \"f\" \"n\" \"f\" \"n\" \"g\" \"l\" \"t\" \"g\" \"t\" \"g\" \"v\" \"l\" \"t\" \"p\"\n",
       " [541] \"s\" \"s\" \"k\" \"r\" \"f\" \"q\" \"p\" \"f\" \"q\" \"q\" \"f\" \"g\" \"r\" \"d\" \"v\" \"s\" \"d\" \"f\"\n",
       " [559] \"t\" \"d\" \"s\" \"v\" \"r\" \"d\" \"p\" \"k\" \"t\" \"s\" \"e\" \"i\" \"l\" \"d\" \"i\" \"s\" \"p\" \"c\"\n",
       " [577] \"s\" \"f\" \"g\" \"g\" \"v\" \"s\" \"v\" \"i\" \"t\" \"p\" \"g\" \"t\" \"n\" \"a\" \"s\" \"s\" \"e\" \"v\"\n",
       " [595] \"a\" \"v\" \"l\" \"y\" \"q\" \"d\" \"v\" \"n\" \"c\" \"t\" \"d\" \"v\" \"s\" \"t\" \"a\" \"i\" \"h\" \"a\"\n",
       " [613] \"d\" \"q\" \"l\" \"t\" \"p\" \"a\" \"w\" \"r\" \"i\" \"y\" \"s\" \"t\" \"g\" \"n\" \"n\" \"v\" \"f\" \"q\"\n",
       " [631] \"t\" \"q\" \"a\" \"g\" \"c\" \"l\" \"i\" \"g\" \"a\" \"e\" \"h\" \"v\" \"d\" \"t\" \"s\" \"y\" \"e\" \"c\"\n",
       " [649] \"d\" \"i\" \"p\" \"i\" \"g\" \"a\" \"g\" \"i\" \"c\" \"a\" \"s\" \"y\" \"h\" \"t\" \"v\" \"s\" \"l\" \"l\"\n",
       " [667] \"r\" \"s\" \"t\" \"s\" \"q\" \"k\" \"s\" \"i\" \"v\" \"a\" \"y\" \"t\" \"m\" \"s\" \"l\" \"g\" \"a\" \"d\"\n",
       " [685] \"s\" \"s\" \"i\" \"a\" \"y\" \"s\" \"n\" \"n\" \"t\" \"i\" \"a\" \"i\" \"p\" \"t\" \"n\" \"f\" \"s\" \"i\"\n",
       " [703] \"s\" \"i\" \"t\" \"t\" \"e\" \"v\" \"m\" \"p\" \"v\" \"s\" \"m\" \"a\" \"k\" \"t\" \"s\" \"v\" \"d\" \"c\"\n",
       " [721] \"n\" \"m\" \"y\" \"i\" \"c\" \"g\" \"d\" \"s\" \"t\" \"e\" \"c\" \"a\" \"n\" \"l\" \"l\" \"l\" \"q\" \"y\"\n",
       " [739] \"g\" \"s\" \"f\" \"c\" \"t\" \"q\" \"l\" \"n\" \"r\" \"a\" \"l\" \"s\" \"g\" \"i\" \"a\" \"a\" \"e\" \"q\"\n",
       " [757] \"d\" \"r\" \"n\" \"t\" \"r\" \"e\" \"v\" \"f\" \"a\" \"q\" \"v\" \"k\" \"q\" \"m\" \"y\" \"k\" \"t\" \"p\"\n",
       " [775] \"t\" \"l\" \"k\" \"y\" \"f\" \"g\" \"g\" \"f\" \"n\" \"f\" \"s\" \"q\" \"i\" \"l\" \"p\" \"d\" \"p\" \"l\"\n",
       " [793] \"k\" \"p\" \"t\" \"k\" \"r\" \"s\" \"f\" \"i\" \"e\" \"d\" \"l\" \"l\" \"f\" \"n\" \"k\" \"v\" \"t\" \"l\"\n",
       " [811] \"a\" \"d\" \"a\" \"g\" \"f\" \"m\" \"k\" \"q\" \"y\" \"g\" \"e\" \"c\" \"l\" \"g\" \"d\" \"i\" \"n\" \"a\"\n",
       " [829] \"r\" \"d\" \"l\" \"i\" \"c\" \"a\" \"q\" \"k\" \"f\" \"n\" \"g\" \"l\" \"t\" \"v\" \"l\" \"p\" \"p\" \"l\"\n",
       " [847] \"l\" \"t\" \"d\" \"d\" \"m\" \"i\" \"a\" \"a\" \"y\" \"t\" \"a\" \"a\" \"l\" \"v\" \"s\" \"g\" \"t\" \"a\"\n",
       " [865] \"t\" \"a\" \"g\" \"w\" \"t\" \"f\" \"g\" \"a\" \"g\" \"a\" \"a\" \"l\" \"q\" \"i\" \"p\" \"f\" \"a\" \"m\"\n",
       " [883] \"q\" \"m\" \"a\" \"y\" \"r\" \"f\" \"n\" \"g\" \"i\" \"g\" \"v\" \"t\" \"q\" \"n\" \"v\" \"l\" \"y\" \"e\"\n",
       " [901] \"n\" \"q\" \"k\" \"q\" \"i\" \"a\" \"n\" \"q\" \"f\" \"n\" \"k\" \"a\" \"i\" \"s\" \"q\" \"i\" \"q\" \"e\"\n",
       " [919] \"s\" \"l\" \"t\" \"t\" \"t\" \"s\" \"t\" \"a\" \"l\" \"g\" \"k\" \"l\" \"q\" \"d\" \"v\" \"v\" \"n\" \"q\"\n",
       " [937] \"n\" \"a\" \"q\" \"a\" \"l\" \"n\" \"t\" \"l\" \"v\" \"k\" \"q\" \"l\" \"s\" \"s\" \"n\" \"f\" \"g\" \"a\"\n",
       " [955] \"i\" \"s\" \"s\" \"v\" \"l\" \"n\" \"d\" \"i\" \"l\" \"s\" \"r\" \"l\" \"d\" \"k\" \"v\" \"e\" \"a\" \"e\"\n",
       " [973] \"v\" \"q\" \"i\" \"d\" \"r\" \"l\" \"i\" \"t\" \"g\" \"r\" \"l\" \"q\" \"s\" \"l\" \"q\" \"t\" \"y\" \"v\"\n",
       " [991] \"t\" \"q\" \"q\" \"l\" \"i\" \"r\" \"a\" \"a\" \"e\" \"i\" \"m\" \"a\" \"s\" \"a\" \"n\" \"l\" \"a\" \"a\"\n",
       "[1009] \"t\" \"k\" \"m\" \"s\" \"e\" \"c\" \"v\" \"l\" \"g\" \"q\" \"s\" \"k\" \"r\" \"v\" \"d\" \"f\" \"c\" \"g\"\n",
       "[1027] \"k\" \"g\" \"y\" \"h\" \"l\" \"m\" \"s\" \"f\" \"p\" \"q\" \"a\" \"a\" \"p\" \"h\" \"g\" \"v\" \"v\" \"f\"\n",
       "[1045] \"l\" \"h\" \"v\" \"t\" \"y\" \"v\" \"p\" \"s\" \"q\" \"e\" \"r\" \"n\" \"f\" \"t\" \"t\" \"a\" \"p\" \"a\"\n",
       "[1063] \"i\" \"c\" \"h\" \"e\" \"g\" \"k\" \"a\" \"y\" \"f\" \"p\" \"r\" \"e\" \"g\" \"v\" \"f\" \"v\" \"f\" \"n\"\n",
       "[1081] \"g\" \"t\" \"s\" \"w\" \"f\" \"i\" \"t\" \"q\" \"r\" \"n\" \"f\" \"f\" \"s\" \"p\" \"q\" \"i\" \"i\" \"t\"\n",
       "[1099] \"t\" \"d\" \"n\" \"t\" \"f\" \"v\" \"s\" \"g\" \"n\" \"c\" \"d\" \"v\" \"v\" \"i\" \"g\" \"i\" \"i\" \"n\"\n",
       "[1117] \"n\" \"t\" \"v\" \"y\" \"d\" \"p\" \"l\" \"q\" \"p\" \"e\" \"l\" \"d\" \"s\" \"f\" \"k\" \"e\" \"e\" \"l\"\n",
       "[1135] \"d\" \"k\" \"y\" \"f\" \"k\" \"n\" \"h\" \"t\" \"s\" \"p\" \"d\" \"v\" \"d\" \"l\" \"g\" \"d\" \"i\" \"s\"\n",
       "[1153] \"g\" \"i\" \"n\" \"a\" \"s\" \"v\" \"v\" \"n\" \"i\" \"q\" \"k\" \"e\" \"i\" \"d\" \"r\" \"l\" \"n\" \"e\"\n",
       "[1171] \"v\" \"a\" \"k\" \"n\" \"l\" \"n\" \"e\" \"s\" \"l\" \"i\" \"d\" \"l\" \"q\" \"e\" \"l\" \"g\" \"k\" \"y\"\n",
       "[1189] \"e\" \"q\" \"y\" \"i\" \"k\" \"w\" \"p\" \"w\" \"y\" \"v\" \"w\" \"l\" \"g\" \"f\" \"i\" \"a\" \"g\" \"l\"\n",
       "[1207] \"i\" \"a\" \"i\" \"v\" \"m\" \"v\" \"t\" \"i\" \"l\" \"l\" \"c\" \"c\" \"m\" \"t\" \"s\" \"c\" \"c\" \"s\"\n",
       "[1225] \"c\" \"l\" \"k\" \"g\" \"a\" \"c\" \"s\" \"c\" \"g\" \"s\" \"c\" \"c\" \"k\" \"f\" \"d\" \"e\" \"d\" \"d\"\n",
       "[1243] \"s\" \"e\" \"p\" \"v\" \"l\" \"k\" \"g\" \"v\" \"k\" \"l\" \"h\" \"y\" \"t\"\n",
       "attr(,\"name\")\n",
       "[1] \"tr|Q6R7Y6|Q6R7Y6_SARS\"\n",
       "attr(,\"Annot\")\n",
       "[1] \">tr|Q6R7Y6|Q6R7Y6_SARS Spike glycoprotein OS=SARS coronavirus NS-1 OX=260743 GN=S PE=3 SV=1\"\n",
       "attr(,\"class\")\n",
       "[1] \"SeqFastadna\""
      ]
     },
     "metadata": {},
     "output_type": "display_data"
    }
   ],
   "source": [
    "sars_spike_seq"
   ]
  },
  {
   "cell_type": "markdown",
   "metadata": {},
   "source": [
    "### Features in the spike protein"
   ]
  },
  {
   "cell_type": "markdown",
   "metadata": {},
   "source": [
    "From the UniProt page for the SARS-CoV spike protein, in the \"Function\" section we see that \"Spike protein S1: attaches the virion to the cell membrane by interacting with host receptor, initiating the infection\".  In the \"PTM / Processing\" section, we see that residues 14-667 belongs to the Chain \"Spike protein S1\".  Can we find the corresponding S1 Chain in the SARS-CoV-2 spike protein?"
   ]
  },
  {
   "cell_type": "code",
   "execution_count": 5,
   "metadata": {
    "scrolled": true
   },
   "outputs": [
    {
     "data": {
      "image/png": "[encoded data removed]",
      "text/plain": [
       "plot without title"
      ]
     },
     "metadata": {
      "image/png": {
       "height": 420,
       "width": 420
      }
     },
     "output_type": "display_data"
    }
   ],
   "source": [
    "dotPlot(sars_spike_seq[14:667],sars2_spike_seq)"
   ]
  },
  {
   "cell_type": "markdown",
   "metadata": {},
   "source": [
    "### Pairwise global alignment of DNA sequences using the Needleman-Wunsch algorithm\n",
    "\n",
    "The `nucleotideSubstitutionMatrix` function from `Biostrings` package creates an object that represents a nucleotide substitution matrix."
   ]
  },
  {
   "cell_type": "code",
   "execution_count": 6,
   "metadata": {},
   "outputs": [
    {
     "data": {
      "text/html": [
       "<table class=\"dataframe\">\n",
       "<caption>A matrix: 4 × 4 of type dbl</caption>\n",
       "<thead>\n",
       "\t<tr><th></th><th scope=col>A</th><th scope=col>C</th><th scope=col>G</th><th scope=col>T</th></tr>\n",
       "</thead>\n",
       "<tbody>\n",
       "\t<tr><th scope=row>A</th><td> 2</td><td>-1</td><td>-1</td><td>-1</td></tr>\n",
       "\t<tr><th scope=row>C</th><td>-1</td><td> 2</td><td>-1</td><td>-1</td></tr>\n",
       "\t<tr><th scope=row>G</th><td>-1</td><td>-1</td><td> 2</td><td>-1</td></tr>\n",
       "\t<tr><th scope=row>T</th><td>-1</td><td>-1</td><td>-1</td><td> 2</td></tr>\n",
       "</tbody>\n",
       "</table>\n"
      ],
      "text/latex": [
       "A matrix: 4 × 4 of type dbl\n",
       "\\begin{tabular}{r|llll}\n",
       "  & A & C & G & T\\\\\n",
       "\\hline\n",
       "\tA &  2 & -1 & -1 & -1\\\\\n",
       "\tC & -1 &  2 & -1 & -1\\\\\n",
       "\tG & -1 & -1 &  2 & -1\\\\\n",
       "\tT & -1 & -1 & -1 &  2\\\\\n",
       "\\end{tabular}\n"
      ],
      "text/markdown": [
       "\n",
       "A matrix: 4 × 4 of type dbl\n",
       "\n",
       "| <!--/--> | A | C | G | T |\n",
       "|---|---|---|---|---|\n",
       "| A |  2 | -1 | -1 | -1 |\n",
       "| C | -1 |  2 | -1 | -1 |\n",
       "| G | -1 | -1 |  2 | -1 |\n",
       "| T | -1 | -1 | -1 |  2 |\n",
       "\n"
      ],
      "text/plain": [
       "  A  C  G  T \n",
       "A  2 -1 -1 -1\n",
       "C -1  2 -1 -1\n",
       "G -1 -1  2 -1\n",
       "T -1 -1 -1  2"
      ]
     },
     "metadata": {},
     "output_type": "display_data"
    }
   ],
   "source": [
    "library(Biostrings)\n",
    "sigma <- nucleotideSubstitutionMatrix(match = 2, mismatch = -1, baseOnly = TRUE)\n",
    "sigma # Print out the matrix"
   ]
  },
  {
   "cell_type": "markdown",
   "metadata": {},
   "source": [
    "The `pairwiseAlignment` function performs (Needleman-Wunsch) global alignment, (Smith-Waterman) local alignment, and (ends-free) overlap alignment problems.  What does the `scoreOnly` argument do?"
   ]
  },
  {
   "cell_type": "code",
   "execution_count": 7,
   "metadata": {},
   "outputs": [
    {
     "data": {
      "text/plain": [
       "Global PairwiseAlignmentsSingleSubject (1 of 1)\n",
       "pattern: GAATTC\n",
       "subject: GA-TTA\n",
       "score: -3 "
      ]
     },
     "metadata": {},
     "output_type": "display_data"
    }
   ],
   "source": [
    "s1 <- \"GAATTC\"\n",
    "s2 <- \"GATTA\"\n",
    "globalAligns1s2 <- pairwiseAlignment(s1, s2, \n",
    "                                     substitutionMatrix=sigma,gapOpening=-2, gapExtension=-8,\n",
    "                                     scoreOnly=FALSE)\n",
    "globalAligns1s2 # Print out the optimal alignment and its score"
   ]
  },
  {
   "cell_type": "markdown",
   "metadata": {},
   "source": [
    "The `Biostrings` package comes with several precomputed scoring matrices.  We can find out which ones are available to use."
   ]
  },
  {
   "cell_type": "code",
   "execution_count": 8,
   "metadata": {},
   "outputs": [
    {
     "data": {
      "text/html": [
       "<h3>Data sets</h3>\n",
       "<table class=\"dataframe\">\n",
       "<caption>A data.frame: 2 × 3</caption>\n",
       "<thead>\n",
       "\t<tr><th scope=col>Package</th><th scope=col>Item</th><th scope=col>Title</th></tr>\n",
       "\t<tr><th scope=col>&lt;chr&gt;</th><th scope=col>&lt;chr&gt;</th><th scope=col>&lt;chr&gt;</th></tr>\n",
       "</thead>\n",
       "<tbody>\n",
       "\t<tr><td>Biostrings</td><td>HNF4alpha   </td><td>Known HNF4alpha binding sequences                       </td></tr>\n",
       "\t<tr><td>Biostrings</td><td>yeastSEQCHR1</td><td>An annotation data file for CHR1 in the yeastSEQ package</td></tr>\n",
       "</tbody>\n",
       "</table>\n",
       "\n"
      ],
      "text/plain": [
       "Data sets in package ‘Biostrings’:\n",
       "\n",
       "HNF4alpha               Known HNF4alpha binding sequences\n",
       "yeastSEQCHR1            An annotation data file for CHR1 in the\n",
       "                        yeastSEQ package"
      ]
     },
     "metadata": {},
     "output_type": "display_data"
    }
   ],
   "source": [
    "data(package=\"Biostrings\")"
   ]
  },
  {
   "cell_type": "markdown",
   "metadata": {},
   "source": [
    "Let's load the `BLOSUM50` matrix into memory and align some amino acid sequences."
   ]
  },
  {
   "cell_type": "code",
   "execution_count": 9,
   "metadata": {},
   "outputs": [],
   "source": [
    "data(BLOSUM50)"
   ]
  },
  {
   "cell_type": "code",
   "execution_count": 10,
   "metadata": {},
   "outputs": [
    {
     "data": {
      "text/html": [
       "<table class=\"dataframe\">\n",
       "<caption>A matrix: 24 × 24 of type int</caption>\n",
       "<thead>\n",
       "\t<tr><th></th><th scope=col>A</th><th scope=col>R</th><th scope=col>N</th><th scope=col>D</th><th scope=col>C</th><th scope=col>Q</th><th scope=col>E</th><th scope=col>G</th><th scope=col>H</th><th scope=col>I</th><th scope=col>⋯</th><th scope=col>P</th><th scope=col>S</th><th scope=col>T</th><th scope=col>W</th><th scope=col>Y</th><th scope=col>V</th><th scope=col>B</th><th scope=col>Z</th><th scope=col>X</th><th scope=col>*</th></tr>\n",
       "</thead>\n",
       "<tbody>\n",
       "\t<tr><th scope=row>A</th><td> 5</td><td>-2</td><td>-1</td><td>-2</td><td>-1</td><td>-1</td><td>-1</td><td> 0</td><td>-2</td><td>-1</td><td>⋯</td><td>-1</td><td> 1</td><td> 0</td><td>-3</td><td>-2</td><td> 0</td><td>-2</td><td>-1</td><td>-1</td><td>-5</td></tr>\n",
       "\t<tr><th scope=row>R</th><td>-2</td><td> 7</td><td>-1</td><td>-2</td><td>-4</td><td> 1</td><td> 0</td><td>-3</td><td> 0</td><td>-4</td><td>⋯</td><td>-3</td><td>-1</td><td>-1</td><td>-3</td><td>-1</td><td>-3</td><td>-1</td><td> 0</td><td>-1</td><td>-5</td></tr>\n",
       "\t<tr><th scope=row>N</th><td>-1</td><td>-1</td><td> 7</td><td> 2</td><td>-2</td><td> 0</td><td> 0</td><td> 0</td><td> 1</td><td>-3</td><td>⋯</td><td>-2</td><td> 1</td><td> 0</td><td>-4</td><td>-2</td><td>-3</td><td> 4</td><td> 0</td><td>-1</td><td>-5</td></tr>\n",
       "\t<tr><th scope=row>D</th><td>-2</td><td>-2</td><td> 2</td><td> 8</td><td>-4</td><td> 0</td><td> 2</td><td>-1</td><td>-1</td><td>-4</td><td>⋯</td><td>-1</td><td> 0</td><td>-1</td><td>-5</td><td>-3</td><td>-4</td><td> 5</td><td> 1</td><td>-1</td><td>-5</td></tr>\n",
       "\t<tr><th scope=row>C</th><td>-1</td><td>-4</td><td>-2</td><td>-4</td><td>13</td><td>-3</td><td>-3</td><td>-3</td><td>-3</td><td>-2</td><td>⋯</td><td>-4</td><td>-1</td><td>-1</td><td>-5</td><td>-3</td><td>-1</td><td>-3</td><td>-3</td><td>-2</td><td>-5</td></tr>\n",
       "\t<tr><th scope=row>Q</th><td>-1</td><td> 1</td><td> 0</td><td> 0</td><td>-3</td><td> 7</td><td> 2</td><td>-2</td><td> 1</td><td>-3</td><td>⋯</td><td>-1</td><td> 0</td><td>-1</td><td>-1</td><td>-1</td><td>-3</td><td> 0</td><td> 4</td><td>-1</td><td>-5</td></tr>\n",
       "\t<tr><th scope=row>E</th><td>-1</td><td> 0</td><td> 0</td><td> 2</td><td>-3</td><td> 2</td><td> 6</td><td>-3</td><td> 0</td><td>-4</td><td>⋯</td><td>-1</td><td>-1</td><td>-1</td><td>-3</td><td>-2</td><td>-3</td><td> 1</td><td> 5</td><td>-1</td><td>-5</td></tr>\n",
       "\t<tr><th scope=row>G</th><td> 0</td><td>-3</td><td> 0</td><td>-1</td><td>-3</td><td>-2</td><td>-3</td><td> 8</td><td>-2</td><td>-4</td><td>⋯</td><td>-2</td><td> 0</td><td>-2</td><td>-3</td><td>-3</td><td>-4</td><td>-1</td><td>-2</td><td>-2</td><td>-5</td></tr>\n",
       "\t<tr><th scope=row>H</th><td>-2</td><td> 0</td><td> 1</td><td>-1</td><td>-3</td><td> 1</td><td> 0</td><td>-2</td><td>10</td><td>-4</td><td>⋯</td><td>-2</td><td>-1</td><td>-2</td><td>-3</td><td> 2</td><td>-4</td><td> 0</td><td> 0</td><td>-1</td><td>-5</td></tr>\n",
       "\t<tr><th scope=row>I</th><td>-1</td><td>-4</td><td>-3</td><td>-4</td><td>-2</td><td>-3</td><td>-4</td><td>-4</td><td>-4</td><td> 5</td><td>⋯</td><td>-3</td><td>-3</td><td>-1</td><td>-3</td><td>-1</td><td> 4</td><td>-4</td><td>-3</td><td>-1</td><td>-5</td></tr>\n",
       "\t<tr><th scope=row>L</th><td>-2</td><td>-3</td><td>-4</td><td>-4</td><td>-2</td><td>-2</td><td>-3</td><td>-4</td><td>-3</td><td> 2</td><td>⋯</td><td>-4</td><td>-3</td><td>-1</td><td>-2</td><td>-1</td><td> 1</td><td>-4</td><td>-3</td><td>-1</td><td>-5</td></tr>\n",
       "\t<tr><th scope=row>K</th><td>-1</td><td> 3</td><td> 0</td><td>-1</td><td>-3</td><td> 2</td><td> 1</td><td>-2</td><td> 0</td><td>-3</td><td>⋯</td><td>-1</td><td> 0</td><td>-1</td><td>-3</td><td>-2</td><td>-3</td><td> 0</td><td> 1</td><td>-1</td><td>-5</td></tr>\n",
       "\t<tr><th scope=row>M</th><td>-1</td><td>-2</td><td>-2</td><td>-4</td><td>-2</td><td> 0</td><td>-2</td><td>-3</td><td>-1</td><td> 2</td><td>⋯</td><td>-3</td><td>-2</td><td>-1</td><td>-1</td><td> 0</td><td> 1</td><td>-3</td><td>-1</td><td>-1</td><td>-5</td></tr>\n",
       "\t<tr><th scope=row>F</th><td>-3</td><td>-3</td><td>-4</td><td>-5</td><td>-2</td><td>-4</td><td>-3</td><td>-4</td><td>-1</td><td> 0</td><td>⋯</td><td>-4</td><td>-3</td><td>-2</td><td> 1</td><td> 4</td><td>-1</td><td>-4</td><td>-4</td><td>-2</td><td>-5</td></tr>\n",
       "\t<tr><th scope=row>P</th><td>-1</td><td>-3</td><td>-2</td><td>-1</td><td>-4</td><td>-1</td><td>-1</td><td>-2</td><td>-2</td><td>-3</td><td>⋯</td><td>10</td><td>-1</td><td>-1</td><td>-4</td><td>-3</td><td>-3</td><td>-2</td><td>-1</td><td>-2</td><td>-5</td></tr>\n",
       "\t<tr><th scope=row>S</th><td> 1</td><td>-1</td><td> 1</td><td> 0</td><td>-1</td><td> 0</td><td>-1</td><td> 0</td><td>-1</td><td>-3</td><td>⋯</td><td>-1</td><td> 5</td><td> 2</td><td>-4</td><td>-2</td><td>-2</td><td> 0</td><td> 0</td><td>-1</td><td>-5</td></tr>\n",
       "\t<tr><th scope=row>T</th><td> 0</td><td>-1</td><td> 0</td><td>-1</td><td>-1</td><td>-1</td><td>-1</td><td>-2</td><td>-2</td><td>-1</td><td>⋯</td><td>-1</td><td> 2</td><td> 5</td><td>-3</td><td>-2</td><td> 0</td><td> 0</td><td>-1</td><td> 0</td><td>-5</td></tr>\n",
       "\t<tr><th scope=row>W</th><td>-3</td><td>-3</td><td>-4</td><td>-5</td><td>-5</td><td>-1</td><td>-3</td><td>-3</td><td>-3</td><td>-3</td><td>⋯</td><td>-4</td><td>-4</td><td>-3</td><td>15</td><td> 2</td><td>-3</td><td>-5</td><td>-2</td><td>-3</td><td>-5</td></tr>\n",
       "\t<tr><th scope=row>Y</th><td>-2</td><td>-1</td><td>-2</td><td>-3</td><td>-3</td><td>-1</td><td>-2</td><td>-3</td><td> 2</td><td>-1</td><td>⋯</td><td>-3</td><td>-2</td><td>-2</td><td> 2</td><td> 8</td><td>-1</td><td>-3</td><td>-2</td><td>-1</td><td>-5</td></tr>\n",
       "\t<tr><th scope=row>V</th><td> 0</td><td>-3</td><td>-3</td><td>-4</td><td>-1</td><td>-3</td><td>-3</td><td>-4</td><td>-4</td><td> 4</td><td>⋯</td><td>-3</td><td>-2</td><td> 0</td><td>-3</td><td>-1</td><td> 5</td><td>-4</td><td>-3</td><td>-1</td><td>-5</td></tr>\n",
       "\t<tr><th scope=row>B</th><td>-2</td><td>-1</td><td> 4</td><td> 5</td><td>-3</td><td> 0</td><td> 1</td><td>-1</td><td> 0</td><td>-4</td><td>⋯</td><td>-2</td><td> 0</td><td> 0</td><td>-5</td><td>-3</td><td>-4</td><td> 5</td><td> 2</td><td>-1</td><td>-5</td></tr>\n",
       "\t<tr><th scope=row>Z</th><td>-1</td><td> 0</td><td> 0</td><td> 1</td><td>-3</td><td> 4</td><td> 5</td><td>-2</td><td> 0</td><td>-3</td><td>⋯</td><td>-1</td><td> 0</td><td>-1</td><td>-2</td><td>-2</td><td>-3</td><td> 2</td><td> 5</td><td>-1</td><td>-5</td></tr>\n",
       "\t<tr><th scope=row>X</th><td>-1</td><td>-1</td><td>-1</td><td>-1</td><td>-2</td><td>-1</td><td>-1</td><td>-2</td><td>-1</td><td>-1</td><td>⋯</td><td>-2</td><td>-1</td><td> 0</td><td>-3</td><td>-1</td><td>-1</td><td>-1</td><td>-1</td><td>-1</td><td>-5</td></tr>\n",
       "\t<tr><th scope=row>*</th><td>-5</td><td>-5</td><td>-5</td><td>-5</td><td>-5</td><td>-5</td><td>-5</td><td>-5</td><td>-5</td><td>-5</td><td>⋯</td><td>-5</td><td>-5</td><td>-5</td><td>-5</td><td>-5</td><td>-5</td><td>-5</td><td>-5</td><td>-5</td><td> 1</td></tr>\n",
       "</tbody>\n",
       "</table>\n"
      ],
      "text/latex": [
       "A matrix: 24 × 24 of type int\n",
       "\\begin{tabular}{r|lllllllllllllllllllll}\n",
       "  & A & R & N & D & C & Q & E & G & H & I & ⋯ & P & S & T & W & Y & V & B & Z & X & *\\\\\n",
       "\\hline\n",
       "\tA &  5 & -2 & -1 & -2 & -1 & -1 & -1 &  0 & -2 & -1 & ⋯ & -1 &  1 &  0 & -3 & -2 &  0 & -2 & -1 & -1 & -5\\\\\n",
       "\tR & -2 &  7 & -1 & -2 & -4 &  1 &  0 & -3 &  0 & -4 & ⋯ & -3 & -1 & -1 & -3 & -1 & -3 & -1 &  0 & -1 & -5\\\\\n",
       "\tN & -1 & -1 &  7 &  2 & -2 &  0 &  0 &  0 &  1 & -3 & ⋯ & -2 &  1 &  0 & -4 & -2 & -3 &  4 &  0 & -1 & -5\\\\\n",
       "\tD & -2 & -2 &  2 &  8 & -4 &  0 &  2 & -1 & -1 & -4 & ⋯ & -1 &  0 & -1 & -5 & -3 & -4 &  5 &  1 & -1 & -5\\\\\n",
       "\tC & -1 & -4 & -2 & -4 & 13 & -3 & -3 & -3 & -3 & -2 & ⋯ & -4 & -1 & -1 & -5 & -3 & -1 & -3 & -3 & -2 & -5\\\\\n",
       "\tQ & -1 &  1 &  0 &  0 & -3 &  7 &  2 & -2 &  1 & -3 & ⋯ & -1 &  0 & -1 & -1 & -1 & -3 &  0 &  4 & -1 & -5\\\\\n",
       "\tE & -1 &  0 &  0 &  2 & -3 &  2 &  6 & -3 &  0 & -4 & ⋯ & -1 & -1 & -1 & -3 & -2 & -3 &  1 &  5 & -1 & -5\\\\\n",
       "\tG &  0 & -3 &  0 & -1 & -3 & -2 & -3 &  8 & -2 & -4 & ⋯ & -2 &  0 & -2 & -3 & -3 & -4 & -1 & -2 & -2 & -5\\\\\n",
       "\tH & -2 &  0 &  1 & -1 & -3 &  1 &  0 & -2 & 10 & -4 & ⋯ & -2 & -1 & -2 & -3 &  2 & -4 &  0 &  0 & -1 & -5\\\\\n",
       "\tI & -1 & -4 & -3 & -4 & -2 & -3 & -4 & -4 & -4 &  5 & ⋯ & -3 & -3 & -1 & -3 & -1 &  4 & -4 & -3 & -1 & -5\\\\\n",
       "\tL & -2 & -3 & -4 & -4 & -2 & -2 & -3 & -4 & -3 &  2 & ⋯ & -4 & -3 & -1 & -2 & -1 &  1 & -4 & -3 & -1 & -5\\\\\n",
       "\tK & -1 &  3 &  0 & -1 & -3 &  2 &  1 & -2 &  0 & -3 & ⋯ & -1 &  0 & -1 & -3 & -2 & -3 &  0 &  1 & -1 & -5\\\\\n",
       "\tM & -1 & -2 & -2 & -4 & -2 &  0 & -2 & -3 & -1 &  2 & ⋯ & -3 & -2 & -1 & -1 &  0 &  1 & -3 & -1 & -1 & -5\\\\\n",
       "\tF & -3 & -3 & -4 & -5 & -2 & -4 & -3 & -4 & -1 &  0 & ⋯ & -4 & -3 & -2 &  1 &  4 & -1 & -4 & -4 & -2 & -5\\\\\n",
       "\tP & -1 & -3 & -2 & -1 & -4 & -1 & -1 & -2 & -2 & -3 & ⋯ & 10 & -1 & -1 & -4 & -3 & -3 & -2 & -1 & -2 & -5\\\\\n",
       "\tS &  1 & -1 &  1 &  0 & -1 &  0 & -1 &  0 & -1 & -3 & ⋯ & -1 &  5 &  2 & -4 & -2 & -2 &  0 &  0 & -1 & -5\\\\\n",
       "\tT &  0 & -1 &  0 & -1 & -1 & -1 & -1 & -2 & -2 & -1 & ⋯ & -1 &  2 &  5 & -3 & -2 &  0 &  0 & -1 &  0 & -5\\\\\n",
       "\tW & -3 & -3 & -4 & -5 & -5 & -1 & -3 & -3 & -3 & -3 & ⋯ & -4 & -4 & -3 & 15 &  2 & -3 & -5 & -2 & -3 & -5\\\\\n",
       "\tY & -2 & -1 & -2 & -3 & -3 & -1 & -2 & -3 &  2 & -1 & ⋯ & -3 & -2 & -2 &  2 &  8 & -1 & -3 & -2 & -1 & -5\\\\\n",
       "\tV &  0 & -3 & -3 & -4 & -1 & -3 & -3 & -4 & -4 &  4 & ⋯ & -3 & -2 &  0 & -3 & -1 &  5 & -4 & -3 & -1 & -5\\\\\n",
       "\tB & -2 & -1 &  4 &  5 & -3 &  0 &  1 & -1 &  0 & -4 & ⋯ & -2 &  0 &  0 & -5 & -3 & -4 &  5 &  2 & -1 & -5\\\\\n",
       "\tZ & -1 &  0 &  0 &  1 & -3 &  4 &  5 & -2 &  0 & -3 & ⋯ & -1 &  0 & -1 & -2 & -2 & -3 &  2 &  5 & -1 & -5\\\\\n",
       "\tX & -1 & -1 & -1 & -1 & -2 & -1 & -1 & -2 & -1 & -1 & ⋯ & -2 & -1 &  0 & -3 & -1 & -1 & -1 & -1 & -1 & -5\\\\\n",
       "\t* & -5 & -5 & -5 & -5 & -5 & -5 & -5 & -5 & -5 & -5 & ⋯ & -5 & -5 & -5 & -5 & -5 & -5 & -5 & -5 & -5 &  1\\\\\n",
       "\\end{tabular}\n"
      ],
      "text/markdown": [
       "\n",
       "A matrix: 24 × 24 of type int\n",
       "\n",
       "| <!--/--> | A | R | N | D | C | Q | E | G | H | I | ⋯ | P | S | T | W | Y | V | B | Z | X | * |\n",
       "|---|---|---|---|---|---|---|---|---|---|---|---|---|---|---|---|---|---|---|---|---|---|\n",
       "| A |  5 | -2 | -1 | -2 | -1 | -1 | -1 |  0 | -2 | -1 | ⋯ | -1 |  1 |  0 | -3 | -2 |  0 | -2 | -1 | -1 | -5 |\n",
       "| R | -2 |  7 | -1 | -2 | -4 |  1 |  0 | -3 |  0 | -4 | ⋯ | -3 | -1 | -1 | -3 | -1 | -3 | -1 |  0 | -1 | -5 |\n",
       "| N | -1 | -1 |  7 |  2 | -2 |  0 |  0 |  0 |  1 | -3 | ⋯ | -2 |  1 |  0 | -4 | -2 | -3 |  4 |  0 | -1 | -5 |\n",
       "| D | -2 | -2 |  2 |  8 | -4 |  0 |  2 | -1 | -1 | -4 | ⋯ | -1 |  0 | -1 | -5 | -3 | -4 |  5 |  1 | -1 | -5 |\n",
       "| C | -1 | -4 | -2 | -4 | 13 | -3 | -3 | -3 | -3 | -2 | ⋯ | -4 | -1 | -1 | -5 | -3 | -1 | -3 | -3 | -2 | -5 |\n",
       "| Q | -1 |  1 |  0 |  0 | -3 |  7 |  2 | -2 |  1 | -3 | ⋯ | -1 |  0 | -1 | -1 | -1 | -3 |  0 |  4 | -1 | -5 |\n",
       "| E | -1 |  0 |  0 |  2 | -3 |  2 |  6 | -3 |  0 | -4 | ⋯ | -1 | -1 | -1 | -3 | -2 | -3 |  1 |  5 | -1 | -5 |\n",
       "| G |  0 | -3 |  0 | -1 | -3 | -2 | -3 |  8 | -2 | -4 | ⋯ | -2 |  0 | -2 | -3 | -3 | -4 | -1 | -2 | -2 | -5 |\n",
       "| H | -2 |  0 |  1 | -1 | -3 |  1 |  0 | -2 | 10 | -4 | ⋯ | -2 | -1 | -2 | -3 |  2 | -4 |  0 |  0 | -1 | -5 |\n",
       "| I | -1 | -4 | -3 | -4 | -2 | -3 | -4 | -4 | -4 |  5 | ⋯ | -3 | -3 | -1 | -3 | -1 |  4 | -4 | -3 | -1 | -5 |\n",
       "| L | -2 | -3 | -4 | -4 | -2 | -2 | -3 | -4 | -3 |  2 | ⋯ | -4 | -3 | -1 | -2 | -1 |  1 | -4 | -3 | -1 | -5 |\n",
       "| K | -1 |  3 |  0 | -1 | -3 |  2 |  1 | -2 |  0 | -3 | ⋯ | -1 |  0 | -1 | -3 | -2 | -3 |  0 |  1 | -1 | -5 |\n",
       "| M | -1 | -2 | -2 | -4 | -2 |  0 | -2 | -3 | -1 |  2 | ⋯ | -3 | -2 | -1 | -1 |  0 |  1 | -3 | -1 | -1 | -5 |\n",
       "| F | -3 | -3 | -4 | -5 | -2 | -4 | -3 | -4 | -1 |  0 | ⋯ | -4 | -3 | -2 |  1 |  4 | -1 | -4 | -4 | -2 | -5 |\n",
       "| P | -1 | -3 | -2 | -1 | -4 | -1 | -1 | -2 | -2 | -3 | ⋯ | 10 | -1 | -1 | -4 | -3 | -3 | -2 | -1 | -2 | -5 |\n",
       "| S |  1 | -1 |  1 |  0 | -1 |  0 | -1 |  0 | -1 | -3 | ⋯ | -1 |  5 |  2 | -4 | -2 | -2 |  0 |  0 | -1 | -5 |\n",
       "| T |  0 | -1 |  0 | -1 | -1 | -1 | -1 | -2 | -2 | -1 | ⋯ | -1 |  2 |  5 | -3 | -2 |  0 |  0 | -1 |  0 | -5 |\n",
       "| W | -3 | -3 | -4 | -5 | -5 | -1 | -3 | -3 | -3 | -3 | ⋯ | -4 | -4 | -3 | 15 |  2 | -3 | -5 | -2 | -3 | -5 |\n",
       "| Y | -2 | -1 | -2 | -3 | -3 | -1 | -2 | -3 |  2 | -1 | ⋯ | -3 | -2 | -2 |  2 |  8 | -1 | -3 | -2 | -1 | -5 |\n",
       "| V |  0 | -3 | -3 | -4 | -1 | -3 | -3 | -4 | -4 |  4 | ⋯ | -3 | -2 |  0 | -3 | -1 |  5 | -4 | -3 | -1 | -5 |\n",
       "| B | -2 | -1 |  4 |  5 | -3 |  0 |  1 | -1 |  0 | -4 | ⋯ | -2 |  0 |  0 | -5 | -3 | -4 |  5 |  2 | -1 | -5 |\n",
       "| Z | -1 |  0 |  0 |  1 | -3 |  4 |  5 | -2 |  0 | -3 | ⋯ | -1 |  0 | -1 | -2 | -2 | -3 |  2 |  5 | -1 | -5 |\n",
       "| X | -1 | -1 | -1 | -1 | -2 | -1 | -1 | -2 | -1 | -1 | ⋯ | -2 | -1 |  0 | -3 | -1 | -1 | -1 | -1 | -1 | -5 |\n",
       "| * | -5 | -5 | -5 | -5 | -5 | -5 | -5 | -5 | -5 | -5 | ⋯ | -5 | -5 | -5 | -5 | -5 | -5 | -5 | -5 | -5 |  1 |\n",
       "\n"
      ],
      "text/plain": [
       "  A  R  N  D  C  Q  E  G  H  I  ⋯ P  S  T  W  Y  V  B  Z  X  * \n",
       "A  5 -2 -1 -2 -1 -1 -1  0 -2 -1 ⋯ -1  1  0 -3 -2  0 -2 -1 -1 -5\n",
       "R -2  7 -1 -2 -4  1  0 -3  0 -4 ⋯ -3 -1 -1 -3 -1 -3 -1  0 -1 -5\n",
       "N -1 -1  7  2 -2  0  0  0  1 -3 ⋯ -2  1  0 -4 -2 -3  4  0 -1 -5\n",
       "D -2 -2  2  8 -4  0  2 -1 -1 -4 ⋯ -1  0 -1 -5 -3 -4  5  1 -1 -5\n",
       "C -1 -4 -2 -4 13 -3 -3 -3 -3 -2 ⋯ -4 -1 -1 -5 -3 -1 -3 -3 -2 -5\n",
       "Q -1  1  0  0 -3  7  2 -2  1 -3 ⋯ -1  0 -1 -1 -1 -3  0  4 -1 -5\n",
       "E -1  0  0  2 -3  2  6 -3  0 -4 ⋯ -1 -1 -1 -3 -2 -3  1  5 -1 -5\n",
       "G  0 -3  0 -1 -3 -2 -3  8 -2 -4 ⋯ -2  0 -2 -3 -3 -4 -1 -2 -2 -5\n",
       "H -2  0  1 -1 -3  1  0 -2 10 -4 ⋯ -2 -1 -2 -3  2 -4  0  0 -1 -5\n",
       "I -1 -4 -3 -4 -2 -3 -4 -4 -4  5 ⋯ -3 -3 -1 -3 -1  4 -4 -3 -1 -5\n",
       "L -2 -3 -4 -4 -2 -2 -3 -4 -3  2 ⋯ -4 -3 -1 -2 -1  1 -4 -3 -1 -5\n",
       "K -1  3  0 -1 -3  2  1 -2  0 -3 ⋯ -1  0 -1 -3 -2 -3  0  1 -1 -5\n",
       "M -1 -2 -2 -4 -2  0 -2 -3 -1  2 ⋯ -3 -2 -1 -1  0  1 -3 -1 -1 -5\n",
       "F -3 -3 -4 -5 -2 -4 -3 -4 -1  0 ⋯ -4 -3 -2  1  4 -1 -4 -4 -2 -5\n",
       "P -1 -3 -2 -1 -4 -1 -1 -2 -2 -3 ⋯ 10 -1 -1 -4 -3 -3 -2 -1 -2 -5\n",
       "S  1 -1  1  0 -1  0 -1  0 -1 -3 ⋯ -1  5  2 -4 -2 -2  0  0 -1 -5\n",
       "T  0 -1  0 -1 -1 -1 -1 -2 -2 -1 ⋯ -1  2  5 -3 -2  0  0 -1  0 -5\n",
       "W -3 -3 -4 -5 -5 -1 -3 -3 -3 -3 ⋯ -4 -4 -3 15  2 -3 -5 -2 -3 -5\n",
       "Y -2 -1 -2 -3 -3 -1 -2 -3  2 -1 ⋯ -3 -2 -2  2  8 -1 -3 -2 -1 -5\n",
       "V  0 -3 -3 -4 -1 -3 -3 -4 -4  4 ⋯ -3 -2  0 -3 -1  5 -4 -3 -1 -5\n",
       "B -2 -1  4  5 -3  0  1 -1  0 -4 ⋯ -2  0  0 -5 -3 -4  5  2 -1 -5\n",
       "Z -1  0  0  1 -3  4  5 -2  0 -3 ⋯ -1  0 -1 -2 -2 -3  2  5 -1 -5\n",
       "X -1 -1 -1 -1 -2 -1 -1 -2 -1 -1 ⋯ -2 -1  0 -3 -1 -1 -1 -1 -1 -5\n",
       "* -5 -5 -5 -5 -5 -5 -5 -5 -5 -5 ⋯ -5 -5 -5 -5 -5 -5 -5 -5 -5  1"
      ]
     },
     "metadata": {},
     "output_type": "display_data"
    }
   ],
   "source": [
    "BLOSUM50 # Print out the matrix"
   ]
  },
  {
   "cell_type": "code",
   "execution_count": 11,
   "metadata": {},
   "outputs": [
    {
     "data": {
      "text/plain": [
       "Global PairwiseAlignmentsSingleSubject (1 of 1)\n",
       "pattern: P---AWHEAE\n",
       "subject: HEAGAWGHEE\n",
       "score: -5 "
      ]
     },
     "metadata": {},
     "output_type": "display_data"
    }
   ],
   "source": [
    "s3 <- \"PAWHEAE\"\n",
    "s4 <- \"HEAGAWGHEE\"\n",
    "globalAligns3s4 <- pairwiseAlignment(s3, s4, substitutionMatrix=BLOSUM50, \n",
    "                                     gapOpening=-2, gapExtension=-8, scoreOnly=FALSE)\n",
    "globalAligns3s4 # Print out the optimal global alignment and its score"
   ]
  },
  {
   "cell_type": "markdown",
   "metadata": {},
   "source": [
    "**Exercise at home:** From the alignment, you should be able to calculate the alignment score of -5."
   ]
  },
  {
   "cell_type": "markdown",
   "metadata": {},
   "source": [
    "### Aligning protein sequences\n",
    "\n",
    "As you see above the `pairwiseAlignment` function takes sequences that are in the form of a single string ('GAATTC'), but the spike protein sequences we have from before were a vector of single characters (e.g., a vector where the first element is the character 'm', second element is the character 'f', etc).  Therefore, we first need to convert the vector of single charcters to a string, which can be achieved by the `c2s` function."
   ]
  },
  {
   "cell_type": "code",
   "execution_count": 12,
   "metadata": {},
   "outputs": [],
   "source": [
    "sars_spike_string <- c2s(sars_spike_seq) \n",
    "sars2_spike_string <- c2s(sars2_spike_seq) "
   ]
  },
  {
   "cell_type": "markdown",
   "metadata": {},
   "source": [
    "Additionally `pairwiseAlignment` requires the sequences to be in uppercase, so we use the `toupper` function to convert these two strings to uppercase."
   ]
  },
  {
   "cell_type": "code",
   "execution_count": 13,
   "metadata": {},
   "outputs": [
    {
     "data": {
      "text/html": [
       "'MFVFLVLLPLVSSQCVNLTTRTQLPPAYTNSFTRGVYYPDKVFRSSVLHSTQDLFLPFFSNVTWFHAIHVSGTNGTKRFDNPVLPFNDGVYFASTEKSNIIRGWIFGTTLDSKTQSLLIVNNATNVVIKVCEFQFCNDPFLGVYYHKNNKSWMESEFRVYSSANNCTFEYVSQPFLMDLEGKQGNFKNLREFVFKNIDGYFKIYSKHTPINLVRDLPQGFSALEPLVDLPIGINITRFQTLLALHRSYLTPGDSSSGWTAGAAAYYVGYLQPRTFLLKYNENGTITDAVDCALDPLSETKCTLKSFTVEKGIYQTSNFRVQPTESIVRFPNITNLCPFGEVFNATRFASVYAWNRKRISNCVADYSVLYNSASFSTFKCYGVSPTKLNDLCFTNVYADSFVIRGDEVRQIAPGQTGKIADYNYKLPDDFTGCVIAWNSNNLDSKVGGNYNYLYRLFRKSNLKPFERDISTEIYQAGSTPCNGVEGFNCYFPLQSYGFQPTNGVGYQPYRVVVLSFELLHAPATVCGPKKSTNLVKNKCVNFNFNGLTGTGVLTESNKKFLPFQQFGRDIADTTDAVRDPQTLEILDITPCSFGGVSVITPGTNTSNQVAVLYQDVNCTEVPVAIHADQLTPTWRVYSTGSNVFQTRAGCLIGAEHVNNSYECDIPIGAGICASYQTQTNSPRRARSVASQSIIAYTMSLGAENSVAYSNNSIAIPTNFTISVTTEILPVSMTKTSVDCTMYICGDSTECSNLLLQYGSFCTQLNRALTGIAVEQDKNTQEVFAQVKQIYKTPPIKDFGGFNFSQILPDPSKPSKRSFIEDLLFNKVTLADAGFIKQYGDCLGDIAARDLICAQKFNGLTVLPPLLTDEMIAQYTSALLAGTITSGWTFGAGAALQIPFAMQMAYRFNGIGVTQNVLYENQKLIANQFNSAIGKIQDSLSSTASALGKLQDVVNQNAQALNTLVKQLSSNFGAISSVLNDILSRLDKVEAEVQIDRLITGRLQSLQTYVTQQLIRAAEIRASANLAATKMSECVLGQSKRVDFCGKGYHLMSFPQSAPHGVVFLHVTYVPAQEKNFTTAPAICHDGKAHFPREGVFVSNGTHWFVTQRNFYEPQIITTDNTFVSGNCDVVIGIVNNTVYDPLQPELDSFKEELDKYFKNHTSPDVDLGDISGINASVVNIQKEIDRLNEVAKNLNESLIDLQELGKYEQYIKWPWYIWLGFIAGLIAIVMVTIMLCCMTSCCSCLKGCCSCGSCCKFDEDDSEPVLKGVKLHYT'"
      ],
      "text/latex": [
       "'MFVFLVLLPLVSSQCVNLTTRTQLPPAYTNSFTRGVYYPDKVFRSSVLHSTQDLFLPFFSNVTWFHAIHVSGTNGTKRFDNPVLPFNDGVYFASTEKSNIIRGWIFGTTLDSKTQSLLIVNNATNVVIKVCEFQFCNDPFLGVYYHKNNKSWMESEFRVYSSANNCTFEYVSQPFLMDLEGKQGNFKNLREFVFKNIDGYFKIYSKHTPINLVRDLPQGFSALEPLVDLPIGINITRFQTLLALHRSYLTPGDSSSGWTAGAAAYYVGYLQPRTFLLKYNENGTITDAVDCALDPLSETKCTLKSFTVEKGIYQTSNFRVQPTESIVRFPNITNLCPFGEVFNATRFASVYAWNRKRISNCVADYSVLYNSASFSTFKCYGVSPTKLNDLCFTNVYADSFVIRGDEVRQIAPGQTGKIADYNYKLPDDFTGCVIAWNSNNLDSKVGGNYNYLYRLFRKSNLKPFERDISTEIYQAGSTPCNGVEGFNCYFPLQSYGFQPTNGVGYQPYRVVVLSFELLHAPATVCGPKKSTNLVKNKCVNFNFNGLTGTGVLTESNKKFLPFQQFGRDIADTTDAVRDPQTLEILDITPCSFGGVSVITPGTNTSNQVAVLYQDVNCTEVPVAIHADQLTPTWRVYSTGSNVFQTRAGCLIGAEHVNNSYECDIPIGAGICASYQTQTNSPRRARSVASQSIIAYTMSLGAENSVAYSNNSIAIPTNFTISVTTEILPVSMTKTSVDCTMYICGDSTECSNLLLQYGSFCTQLNRALTGIAVEQDKNTQEVFAQVKQIYKTPPIKDFGGFNFSQILPDPSKPSKRSFIEDLLFNKVTLADAGFIKQYGDCLGDIAARDLICAQKFNGLTVLPPLLTDEMIAQYTSALLAGTITSGWTFGAGAALQIPFAMQMAYRFNGIGVTQNVLYENQKLIANQFNSAIGKIQDSLSSTASALGKLQDVVNQNAQALNTLVKQLSSNFGAISSVLNDILSRLDKVEAEVQIDRLITGRLQSLQTYVTQQLIRAAEIRASANLAATKMSECVLGQSKRVDFCGKGYHLMSFPQSAPHGVVFLHVTYVPAQEKNFTTAPAICHDGKAHFPREGVFVSNGTHWFVTQRNFYEPQIITTDNTFVSGNCDVVIGIVNNTVYDPLQPELDSFKEELDKYFKNHTSPDVDLGDISGINASVVNIQKEIDRLNEVAKNLNESLIDLQELGKYEQYIKWPWYIWLGFIAGLIAIVMVTIMLCCMTSCCSCLKGCCSCGSCCKFDEDDSEPVLKGVKLHYT'"
      ],
      "text/markdown": [
       "'MFVFLVLLPLVSSQCVNLTTRTQLPPAYTNSFTRGVYYPDKVFRSSVLHSTQDLFLPFFSNVTWFHAIHVSGTNGTKRFDNPVLPFNDGVYFASTEKSNIIRGWIFGTTLDSKTQSLLIVNNATNVVIKVCEFQFCNDPFLGVYYHKNNKSWMESEFRVYSSANNCTFEYVSQPFLMDLEGKQGNFKNLREFVFKNIDGYFKIYSKHTPINLVRDLPQGFSALEPLVDLPIGINITRFQTLLALHRSYLTPGDSSSGWTAGAAAYYVGYLQPRTFLLKYNENGTITDAVDCALDPLSETKCTLKSFTVEKGIYQTSNFRVQPTESIVRFPNITNLCPFGEVFNATRFASVYAWNRKRISNCVADYSVLYNSASFSTFKCYGVSPTKLNDLCFTNVYADSFVIRGDEVRQIAPGQTGKIADYNYKLPDDFTGCVIAWNSNNLDSKVGGNYNYLYRLFRKSNLKPFERDISTEIYQAGSTPCNGVEGFNCYFPLQSYGFQPTNGVGYQPYRVVVLSFELLHAPATVCGPKKSTNLVKNKCVNFNFNGLTGTGVLTESNKKFLPFQQFGRDIADTTDAVRDPQTLEILDITPCSFGGVSVITPGTNTSNQVAVLYQDVNCTEVPVAIHADQLTPTWRVYSTGSNVFQTRAGCLIGAEHVNNSYECDIPIGAGICASYQTQTNSPRRARSVASQSIIAYTMSLGAENSVAYSNNSIAIPTNFTISVTTEILPVSMTKTSVDCTMYICGDSTECSNLLLQYGSFCTQLNRALTGIAVEQDKNTQEVFAQVKQIYKTPPIKDFGGFNFSQILPDPSKPSKRSFIEDLLFNKVTLADAGFIKQYGDCLGDIAARDLICAQKFNGLTVLPPLLTDEMIAQYTSALLAGTITSGWTFGAGAALQIPFAMQMAYRFNGIGVTQNVLYENQKLIANQFNSAIGKIQDSLSSTASALGKLQDVVNQNAQALNTLVKQLSSNFGAISSVLNDILSRLDKVEAEVQIDRLITGRLQSLQTYVTQQLIRAAEIRASANLAATKMSECVLGQSKRVDFCGKGYHLMSFPQSAPHGVVFLHVTYVPAQEKNFTTAPAICHDGKAHFPREGVFVSNGTHWFVTQRNFYEPQIITTDNTFVSGNCDVVIGIVNNTVYDPLQPELDSFKEELDKYFKNHTSPDVDLGDISGINASVVNIQKEIDRLNEVAKNLNESLIDLQELGKYEQYIKWPWYIWLGFIAGLIAIVMVTIMLCCMTSCCSCLKGCCSCGSCCKFDEDDSEPVLKGVKLHYT'"
      ],
      "text/plain": [
       "[1] \"MFVFLVLLPLVSSQCVNLTTRTQLPPAYTNSFTRGVYYPDKVFRSSVLHSTQDLFLPFFSNVTWFHAIHVSGTNGTKRFDNPVLPFNDGVYFASTEKSNIIRGWIFGTTLDSKTQSLLIVNNATNVVIKVCEFQFCNDPFLGVYYHKNNKSWMESEFRVYSSANNCTFEYVSQPFLMDLEGKQGNFKNLREFVFKNIDGYFKIYSKHTPINLVRDLPQGFSALEPLVDLPIGINITRFQTLLALHRSYLTPGDSSSGWTAGAAAYYVGYLQPRTFLLKYNENGTITDAVDCALDPLSETKCTLKSFTVEKGIYQTSNFRVQPTESIVRFPNITNLCPFGEVFNATRFASVYAWNRKRISNCVADYSVLYNSASFSTFKCYGVSPTKLNDLCFTNVYADSFVIRGDEVRQIAPGQTGKIADYNYKLPDDFTGCVIAWNSNNLDSKVGGNYNYLYRLFRKSNLKPFERDISTEIYQAGSTPCNGVEGFNCYFPLQSYGFQPTNGVGYQPYRVVVLSFELLHAPATVCGPKKSTNLVKNKCVNFNFNGLTGTGVLTESNKKFLPFQQFGRDIADTTDAVRDPQTLEILDITPCSFGGVSVITPGTNTSNQVAVLYQDVNCTEVPVAIHADQLTPTWRVYSTGSNVFQTRAGCLIGAEHVNNSYECDIPIGAGICASYQTQTNSPRRARSVASQSIIAYTMSLGAENSVAYSNNSIAIPTNFTISVTTEILPVSMTKTSVDCTMYICGDSTECSNLLLQYGSFCTQLNRALTGIAVEQDKNTQEVFAQVKQIYKTPPIKDFGGFNFSQILPDPSKPSKRSFIEDLLFNKVTLADAGFIKQYGDCLGDIAARDLICAQKFNGLTVLPPLLTDEMIAQYTSALLAGTITSGWTFGAGAALQIPFAMQMAYRFNGIGVTQNVLYENQKLIANQFNSAIGKIQDSLSSTASALGKLQDVVNQNAQALNTLVKQLSSNFGAISSVLNDILSRLDKVEAEVQIDRLITGRLQSLQTYVTQQLIRAAEIRASANLAATKMSECVLGQSKRVDFCGKGYHLMSFPQSAPHGVVFLHVTYVPAQEKNFTTAPAICHDGKAHFPREGVFVSNGTHWFVTQRNFYEPQIITTDNTFVSGNCDVVIGIVNNTVYDPLQPELDSFKEELDKYFKNHTSPDVDLGDISGINASVVNIQKEIDRLNEVAKNLNESLIDLQELGKYEQYIKWPWYIWLGFIAGLIAIVMVTIMLCCMTSCCSCLKGCCSCGSCCKFDEDDSEPVLKGVKLHYT\""
      ]
     },
     "metadata": {},
     "output_type": "display_data"
    }
   ],
   "source": [
    "sars_spike_string2 <- toupper(sars_spike_string)\n",
    "sars2_spike_string2 <- toupper(sars2_spike_string)\n",
    "sars2_spike_string2"
   ]
  },
  {
   "cell_type": "markdown",
   "metadata": {},
   "source": [
    "To get the S1 domain of the SARS-CoV spike protein, which correspond to residues 14 to 667, we need to use the `substr` function that operates on strings."
   ]
  },
  {
   "cell_type": "code",
   "execution_count": 14,
   "metadata": {},
   "outputs": [
    {
     "data": {
      "text/html": [
       "'SDLDRCTTFDDVQAPNYTQHTSSMRGVYYPDEIFRSDTLYLTQDLFLPFYSNVTGFHTINHTFGNPVIPFKDGIYFAATEKSNVVRGWVFGSTMNNKSQSVIIINNSTNVVIRACNFELCDNPFFAVSKPMGTQTHTMIFDNAFNCTFEYISDAFSLDVSEKSGNFKHLREFVFKNKDGFLYVYKGYQPIDVVRDLPSGFNTLKPIFKLPLGINITNFRAILTAFSPAQDTWGTSAAAYFVGYLKPTTFMLKYDENGTITDAVDCSQNPLAELKCSVKSFEIDKGIYQTSNFRVVPSGDVVRFPNITNLCPFGEVFNATKFPSVYAWERKKISNCVADYSVLYNSTFFSTFKCYGVSATKLNDLCFSNVYADSFVVKGDDVRQIAPGQTGVIADYNYKLPDDFMGCVLAWNTRNIDATSTGNYNYKYRYLRHGKLRPFERDISNVPFSPDGKPCTPPALNCYWPLNDYGFYTTTGIGYQPYRVVVLSFELLNAPATVCGPKLSTDLIKNQCVNFNFNGLTGTGVLTPSSKRFQPFQQFGRDVSDFTDSVRDPKTSEILDISPCSFGGVSVITPGTNASSEVAVLYQDVNCTDVSTAIHADQLTPAWRIYSTGNNVFQTQAGCLIGAEHVDTSYECDIPIGAGICASYHTVSLLR'"
      ],
      "text/latex": [
       "'SDLDRCTTFDDVQAPNYTQHTSSMRGVYYPDEIFRSDTLYLTQDLFLPFYSNVTGFHTINHTFGNPVIPFKDGIYFAATEKSNVVRGWVFGSTMNNKSQSVIIINNSTNVVIRACNFELCDNPFFAVSKPMGTQTHTMIFDNAFNCTFEYISDAFSLDVSEKSGNFKHLREFVFKNKDGFLYVYKGYQPIDVVRDLPSGFNTLKPIFKLPLGINITNFRAILTAFSPAQDTWGTSAAAYFVGYLKPTTFMLKYDENGTITDAVDCSQNPLAELKCSVKSFEIDKGIYQTSNFRVVPSGDVVRFPNITNLCPFGEVFNATKFPSVYAWERKKISNCVADYSVLYNSTFFSTFKCYGVSATKLNDLCFSNVYADSFVVKGDDVRQIAPGQTGVIADYNYKLPDDFMGCVLAWNTRNIDATSTGNYNYKYRYLRHGKLRPFERDISNVPFSPDGKPCTPPALNCYWPLNDYGFYTTTGIGYQPYRVVVLSFELLNAPATVCGPKLSTDLIKNQCVNFNFNGLTGTGVLTPSSKRFQPFQQFGRDVSDFTDSVRDPKTSEILDISPCSFGGVSVITPGTNASSEVAVLYQDVNCTDVSTAIHADQLTPAWRIYSTGNNVFQTQAGCLIGAEHVDTSYECDIPIGAGICASYHTVSLLR'"
      ],
      "text/markdown": [
       "'SDLDRCTTFDDVQAPNYTQHTSSMRGVYYPDEIFRSDTLYLTQDLFLPFYSNVTGFHTINHTFGNPVIPFKDGIYFAATEKSNVVRGWVFGSTMNNKSQSVIIINNSTNVVIRACNFELCDNPFFAVSKPMGTQTHTMIFDNAFNCTFEYISDAFSLDVSEKSGNFKHLREFVFKNKDGFLYVYKGYQPIDVVRDLPSGFNTLKPIFKLPLGINITNFRAILTAFSPAQDTWGTSAAAYFVGYLKPTTFMLKYDENGTITDAVDCSQNPLAELKCSVKSFEIDKGIYQTSNFRVVPSGDVVRFPNITNLCPFGEVFNATKFPSVYAWERKKISNCVADYSVLYNSTFFSTFKCYGVSATKLNDLCFSNVYADSFVVKGDDVRQIAPGQTGVIADYNYKLPDDFMGCVLAWNTRNIDATSTGNYNYKYRYLRHGKLRPFERDISNVPFSPDGKPCTPPALNCYWPLNDYGFYTTTGIGYQPYRVVVLSFELLNAPATVCGPKLSTDLIKNQCVNFNFNGLTGTGVLTPSSKRFQPFQQFGRDVSDFTDSVRDPKTSEILDISPCSFGGVSVITPGTNASSEVAVLYQDVNCTDVSTAIHADQLTPAWRIYSTGNNVFQTQAGCLIGAEHVDTSYECDIPIGAGICASYHTVSLLR'"
      ],
      "text/plain": [
       "[1] \"SDLDRCTTFDDVQAPNYTQHTSSMRGVYYPDEIFRSDTLYLTQDLFLPFYSNVTGFHTINHTFGNPVIPFKDGIYFAATEKSNVVRGWVFGSTMNNKSQSVIIINNSTNVVIRACNFELCDNPFFAVSKPMGTQTHTMIFDNAFNCTFEYISDAFSLDVSEKSGNFKHLREFVFKNKDGFLYVYKGYQPIDVVRDLPSGFNTLKPIFKLPLGINITNFRAILTAFSPAQDTWGTSAAAYFVGYLKPTTFMLKYDENGTITDAVDCSQNPLAELKCSVKSFEIDKGIYQTSNFRVVPSGDVVRFPNITNLCPFGEVFNATKFPSVYAWERKKISNCVADYSVLYNSTFFSTFKCYGVSATKLNDLCFSNVYADSFVVKGDDVRQIAPGQTGVIADYNYKLPDDFMGCVLAWNTRNIDATSTGNYNYKYRYLRHGKLRPFERDISNVPFSPDGKPCTPPALNCYWPLNDYGFYTTTGIGYQPYRVVVLSFELLNAPATVCGPKLSTDLIKNQCVNFNFNGLTGTGVLTPSSKRFQPFQQFGRDVSDFTDSVRDPKTSEILDISPCSFGGVSVITPGTNASSEVAVLYQDVNCTDVSTAIHADQLTPAWRIYSTGNNVFQTQAGCLIGAEHVDTSYECDIPIGAGICASYHTVSLLR\""
      ]
     },
     "metadata": {},
     "output_type": "display_data"
    }
   ],
   "source": [
    "sars_spike_s1 <- substr(sars_spike_string2,14,667)\n",
    "sars_spike_s1"
   ]
  },
  {
   "cell_type": "markdown",
   "metadata": {},
   "source": [
    "What happens if we perform a global alignment of the S1 domain sequence of the SARS-CoV protein against the entire sequence of the SARS-CoV-2 protein?"
   ]
  },
  {
   "cell_type": "code",
   "execution_count": 15,
   "metadata": {},
   "outputs": [
    {
     "data": {
      "text/plain": [
       "Global PairwiseAlignmentsSingleSubject (1 of 1)\n",
       "pattern: SDL---------DRCTTFDD-VQ-APNYTQHTSS...----------------------------------\n",
       "subject: MFVFLVLLPLVSSQCVNLTTRTQLPPAYTN--SF...CCSCLKGCCSCGSCCKFDEDDSEPVLKGVKLHYT\n",
       "score: 1863 "
      ]
     },
     "metadata": {},
     "output_type": "display_data"
    }
   ],
   "source": [
    "global_align_spike <- pairwiseAlignment(sars_spike_s1, sars2_spike_string2,\n",
    "                                        substitutionMatrix = BLOSUM50, gapOpening = -8, \n",
    "                                        gapExtension = -2, scoreOnly = FALSE)\n",
    "global_align_spike # Print out the optimal global alignment and its score"
   ]
  },
  {
   "cell_type": "markdown",
   "metadata": {},
   "source": [
    "When the alignment is very long, you only see the beginning and the end of the alignment.  We provide you a `printPairwiseAlignment` function below that will print the whole alignment. Evaluate this cell (\"shift+enter\") to get this function into memory."
   ]
  },
  {
   "cell_type": "code",
   "execution_count": 16,
   "metadata": {},
   "outputs": [],
   "source": [
    "printPairwiseAlignment <- function(alignment, chunksize=60, returnlist=FALSE) {\n",
    "     require(Biostrings)           # This function requires the Biostrings package\n",
    "     seq1aln <- pattern(alignment) # Get the alignment for the first sequence\n",
    "     seq2aln <- subject(alignment) # Get the alignment for the second sequence\n",
    "     alnlen  <- nchar(seq1aln)     # Find the number of columns in the alignment\n",
    "     starts  <- seq(1, alnlen, by=chunksize)\n",
    "     n       <- length(starts)\n",
    "     seq1alnresidues <- 0\n",
    "     seq2alnresidues <- 0\n",
    "     for (i in 1:n) {\n",
    "        chunkseq1aln <- substring(seq1aln, starts[i], starts[i]+chunksize-1)\n",
    "        chunkseq2aln <- substring(seq2aln, starts[i], starts[i]+chunksize-1)\n",
    "        # Find out how many gaps there are in chunkseq1aln:\n",
    "        gaps1 <- countPattern(\"-\",chunkseq1aln) # countPattern() is from Biostrings package\n",
    "        # Find out how many gaps there are in chunkseq2aln:\n",
    "        gaps2 <- countPattern(\"-\",chunkseq2aln) # countPattern() is from Biostrings package\n",
    "        # Calculate how many residues of the first sequence we have printed so far in the alignment:\n",
    "        seq1alnresidues <- seq1alnresidues + chunksize - gaps1\n",
    "        # Calculate how many residues of the second sequence we have printed so far in the alignment:\n",
    "        seq2alnresidues <- seq2alnresidues + chunksize - gaps2\n",
    "        if (returnlist == 'FALSE')\n",
    "        {\n",
    "           print(paste(chunkseq1aln,seq1alnresidues))\n",
    "           print(paste(chunkseq2aln,seq2alnresidues))\n",
    "           print(paste(' '))\n",
    "        }\n",
    "     }\n",
    "     if (returnlist == 'TRUE')\n",
    "     {\n",
    "        vector1 <- s2c(substring(seq1aln, 1, nchar(seq1aln)))\n",
    "        vector2 <- s2c(substring(seq2aln, 1, nchar(seq2aln)))\n",
    "        mylist <- list(vector1, vector2)\n",
    "        return(mylist)\n",
    "     }\n",
    "}\n"
   ]
  },
  {
   "cell_type": "markdown",
   "metadata": {},
   "source": [
    "Here we use the function to print the spike protein alignment in blocks of 100 aligned columns."
   ]
  },
  {
   "cell_type": "code",
   "execution_count": 17,
   "metadata": {},
   "outputs": [
    {
     "name": "stdout",
     "output_type": "stream",
     "text": [
      "[1] \"SDL---------DRCTTFDD-VQ-APNYTQHTSSMRGVYYPDEIFRSDTLYLTQDLFLPFYSNVTGFHTI-----NHT--FGNPVIPFKDGIYFAATEKS 82\"\n",
      "[1] \"MFVFLVLLPLVSSQCVNLTTRTQLPPAYTN--SFTRGVYYPDKVFRSSVLHSTQDLFLPFFSNVTWFHAIHVSGTNGTKRFDNPVLPFNDGVYFASTEKS 98\"\n",
      "[1] \" \"\n",
      "[1] \"NVVRGWVFGSTMNNKSQSVIIINNSTNVVIRACNFELCDNPFFAV----SKPMGTQTHTMIFDNAFNCTFEYISDAFSLDVSEKSGNFKHLREFVFKNKD 178\"\n",
      "[1] \"NIIRGWIFGTTLDSKTQSLLIVNNATNVVIKVCEFQFCNDPFLGVYYHKNNKSWMESEFRVYSSANNCTFEYVSQPFLMDLEGKQGNFKNLREFVFKNID 198\"\n",
      "[1] \" \"\n",
      "[1] \"GFLYVYKGYQPIDVVRDLPSGFNTLKPIFKLPLGINITNFRAIL----TAFSPAQDT--WGTSAAAYFVGYLKPTTFMLKYDENGTITDAVDCSQNPLAE 272\"\n",
      "[1] \"GYFKIYSKHTPINLVRDLPQGFSALEPLVDLPIGINITRFQTLLALHRSYLTPGDSSSGWTAGAAAYYVGYLQPRTFLLKYNENGTITDAVDCALDPLSE 298\"\n",
      "[1] \" \"\n",
      "[1] \"LKCSVKSFEIDKGIYQTSNFRVVPSGDVVRFPNITNLCPFGEVFNATKFPSVYAWERKKISNCVADYSVLYNSTFFSTFKCYGVSATKLNDLCFSNVYAD 372\"\n",
      "[1] \"TKCTLKSFTVEKGIYQTSNFRVQPTESIVRFPNITNLCPFGEVFNATRFASVYAWNRKRISNCVADYSVLYNSASFSTFKCYGVSPTKLNDLCFTNVYAD 398\"\n",
      "[1] \" \"\n",
      "[1] \"SFVVKGDDVRQIAPGQTGVIADYNYKLPDDFMGCVLAWNTRNIDATSTGNYNYKYRYLRHGKLRPFERDISNVPFSPDGKPCTP-PALNCYWPLNDYGFY 471\"\n",
      "[1] \"SFVIRGDEVRQIAPGQTGKIADYNYKLPDDFTGCVIAWNSNNLDSKVGGNYNYLYRLFRKSNLKPFERDISTEIYQAGSTPCNGVEGFNCYFPLQSYGFQ 498\"\n",
      "[1] \" \"\n",
      "[1] \"TTTGIGYQPYRVVVLSFELLNAPATVCGPKLSTDLIKNQCVNFNFNGLTGTGVLTPSSKRFQPFQQFGRDVSDFTDSVRDPKTSEILDISPCSFGGVSVI 571\"\n",
      "[1] \"PTNGVGYQPYRVVVLSFELLHAPATVCGPKKSTNLVKNKCVNFNFNGLTGTGVLTESNKKFLPFQQFGRDIADTTDAVRDPQTLEILDITPCSFGGVSVI 598\"\n",
      "[1] \" \"\n",
      "[1] \"TPGTNASSEVAVLYQDVNCTDVSTAIHADQLTPAWRIYSTGNNVFQTQAGCLIGAEHVDTSYECDIPIGAGICASYHT---------------------- 649\"\n",
      "[1] \"TPGTNTSNQVAVLYQDVNCTEVPVAIHADQLTPTWRVYSTGSNVFQTRAGCLIGAEHVNNSYECDIPIGAGICASYQTQTNSPRRARSVASQSIIAYTMS 698\"\n",
      "[1] \" \"\n",
      "[1] \"------------------------------VS-------------------------------------------------------------------- 651\"\n",
      "[1] \"LGAENSVAYSNNSIAIPTNFTISVTTEILPVSMTKTSVDCTMYICGDSTECSNLLLQYGSFCTQLNRALTGIAVEQDKNTQEVFAQVKQIYKTPPIKDFG 798\"\n",
      "[1] \" \"\n",
      "[1] \"---------------------------------------------------------------------------------------------------- 651\"\n",
      "[1] \"GFNFSQILPDPSKPSKRSFIEDLLFNKVTLADAGFIKQYGDCLGDIAARDLICAQKFNGLTVLPPLLTDEMIAQYTSALLAGTITSGWTFGAGAALQIPF 898\"\n",
      "[1] \" \"\n",
      "[1] \"---------------------------------------------------------------------------------------------------- 651\"\n",
      "[1] \"AMQMAYRFNGIGVTQNVLYENQKLIANQFNSAIGKIQDSLSSTASALGKLQDVVNQNAQALNTLVKQLSSNFGAISSVLNDILSRLDKVEAEVQIDRLIT 998\"\n",
      "[1] \" \"\n",
      "[1] \"-------------LLR 738\"\n",
      "[1] \"GRLQSLQTYVTQQLIR 1098\"\n",
      "[1] \" \"\n"
     ]
    }
   ],
   "source": [
    "printPairwiseAlignment(global_align_spike, 100)"
   ]
  },
  {
   "cell_type": "markdown",
   "metadata": {},
   "source": [
    "We can see that the global alignment was able to align the beginning of the two sequences but then forced to create a large gap in the shorter sequence so the alignment is end-to-end.\n",
    "\n",
    "The `pairwiseAlignment` function can also perform local alignments by specifying \"type=local\":"
   ]
  },
  {
   "cell_type": "code",
   "execution_count": 18,
   "metadata": {},
   "outputs": [
    {
     "data": {
      "text/plain": [
       "Local PairwiseAlignmentsSingleSubject (1 of 1)\n",
       "pattern: [15] PNYTQHTSSMRGVYYPDEIFRSDTLYLTQDLF...QAGCLIGAEHVDTSYECDIPIGAGICASYHT\n",
       "subject: [26] PAYTN--SFTRGVYYPDKVFRSSVLHSTQDLF...RAGCLIGAEHVNNSYECDIPIGAGICASYQT\n",
       "score: 3080 "
      ]
     },
     "metadata": {},
     "output_type": "display_data"
    }
   ],
   "source": [
    "local_align_spike <- pairwiseAlignment(sars_spike_s1, sars2_spike_string2,\n",
    "                                    substitutionMatrix = BLOSUM50, \n",
    "                                    gapOpening = -8, gapExtension = -2, scoreOnly = FALSE, type=\"local\")\n",
    "local_align_spike # Print out the optimal local alignment and its score"
   ]
  },
  {
   "cell_type": "markdown",
   "metadata": {},
   "source": [
    "Again we can use `printPairwiseAlignment` to view the entire alignment"
   ]
  },
  {
   "cell_type": "code",
   "execution_count": 19,
   "metadata": {
    "scrolled": true
   },
   "outputs": [
    {
     "name": "stdout",
     "output_type": "stream",
     "text": [
      "[1] \"PNYTQHTSSMRGVYYPDEIFRSDTLYLTQDLFLPFYSNVTGFHTI-----NHT--FGNPVIPFKDGIYFAATEKSNVVRGWVFGSTMNNKSQSVIIINNS 93\"\n",
      "[1] \"PAYTN--SFTRGVYYPDKVFRSSVLHSTQDLFLPFFSNVTWFHAIHVSGTNGTKRFDNPVLPFNDGVYFASTEKSNIIRGWIFGTTLDSKTQSLLIVNNA 98\"\n",
      "[1] \" \"\n",
      "[1] \"TNVVIRACNFELCDNPFFAV----SKPMGTQTHTMIFDNAFNCTFEYISDAFSLDVSEKSGNFKHLREFVFKNKDGFLYVYKGYQPIDVVRDLPSGFNTL 189\"\n",
      "[1] \"TNVVIKVCEFQFCNDPFLGVYYHKNNKSWMESEFRVYSSANNCTFEYVSQPFLMDLEGKQGNFKNLREFVFKNIDGYFKIYSKHTPINLVRDLPQGFSAL 198\"\n",
      "[1] \" \"\n",
      "[1] \"KPIFKLPLGINITNFRAIL----TAFSPAQDT--WGTSAAAYFVGYLKPTTFMLKYDENGTITDAVDCSQNPLAELKCSVKSFEIDKGIYQTSNFRVVPS 283\"\n",
      "[1] \"EPLVDLPIGINITRFQTLLALHRSYLTPGDSSSGWTAGAAAYYVGYLQPRTFLLKYNENGTITDAVDCALDPLSETKCTLKSFTVEKGIYQTSNFRVQPT 298\"\n",
      "[1] \" \"\n",
      "[1] \"GDVVRFPNITNLCPFGEVFNATKFPSVYAWERKKISNCVADYSVLYNSTFFSTFKCYGVSATKLNDLCFSNVYADSFVVKGDDVRQIAPGQTGVIADYNY 383\"\n",
      "[1] \"ESIVRFPNITNLCPFGEVFNATRFASVYAWNRKRISNCVADYSVLYNSASFSTFKCYGVSPTKLNDLCFTNVYADSFVIRGDEVRQIAPGQTGKIADYNY 398\"\n",
      "[1] \" \"\n",
      "[1] \"KLPDDFMGCVLAWNTRNIDATSTGNYNYKYRYLRHGKLRPFERDISNVPFSPDGKPCTP-PALNCYWPLNDYGFYTTTGIGYQPYRVVVLSFELLNAPAT 482\"\n",
      "[1] \"KLPDDFTGCVIAWNSNNLDSKVGGNYNYLYRLFRKSNLKPFERDISTEIYQAGSTPCNGVEGFNCYFPLQSYGFQPTNGVGYQPYRVVVLSFELLHAPAT 498\"\n",
      "[1] \" \"\n",
      "[1] \"VCGPKLSTDLIKNQCVNFNFNGLTGTGVLTPSSKRFQPFQQFGRDVSDFTDSVRDPKTSEILDISPCSFGGVSVITPGTNASSEVAVLYQDVNCTDVSTA 582\"\n",
      "[1] \"VCGPKKSTNLVKNKCVNFNFNGLTGTGVLTESNKKFLPFQQFGRDIADTTDAVRDPQTLEILDITPCSFGGVSVITPGTNTSNQVAVLYQDVNCTEVPVA 598\"\n",
      "[1] \" \"\n",
      "[1] \"IHADQLTPAWRIYSTGNNVFQTQAGCLIGAEHVDTSYECDIPIGAGICASYHT 682\"\n",
      "[1] \"IHADQLTPTWRVYSTGSNVFQTRAGCLIGAEHVNNSYECDIPIGAGICASYQT 698\"\n",
      "[1] \" \"\n"
     ]
    }
   ],
   "source": [
    "printPairwiseAlignment(local_align_spike, 100)"
   ]
  },
  {
   "cell_type": "markdown",
   "metadata": {},
   "source": [
    "Now we are pulling out only part of the SARS-CoV-2 spike protein sequencce, which should be the S1 domain.  What is the approximate range of this domain in the entire protein sequence?  How does this compare to what you saw in the dot plot at the beginning?"
   ]
  },
  {
   "cell_type": "code",
   "execution_count": null,
   "metadata": {},
   "outputs": [],
   "source": []
  }
 ],
 "metadata": {
  "kernelspec": {
   "display_name": "R [conda env:r_4.4]",
   "language": "R",
   "name": "conda-env-r_4.4-r"
  },
  "language_info": {
   "codemirror_mode": "r",
   "file_extension": ".r",
   "mimetype": "text/x-r-source",
   "name": "R",
   "pygments_lexer": "r",
   "version": "4.4.2"
  }
 },
 "nbformat": 4,
 "nbformat_minor": 4
}
